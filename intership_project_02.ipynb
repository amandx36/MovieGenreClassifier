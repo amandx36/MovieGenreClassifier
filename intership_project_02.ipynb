{
 "cells": [
  {
   "cell_type": "code",
   "execution_count": 8,
   "id": "f6261022-22d9-47a5-97d7-b61b3cf5ebca",
   "metadata": {},
   "outputs": [
    {
     "name": "stdout",
     "output_type": "stream",
     "text": [
      "work start karoo bhai !!! \n"
     ]
    }
   ],
   "source": [
    "print(\"work start karoo bhai !!! \")"
   ]
  },
  {
   "cell_type": "code",
   "execution_count": 9,
   "id": "20f3dcb5-33e1-4db1-9486-588b903afcd0",
   "metadata": {},
   "outputs": [],
   "source": [
    "import pandas as pd \n",
    "# to read the file !!! \n",
    "\n",
    "DataFrame = pd.read_csv('/home/N3xthar-Voryx/Internship02/train_data.txt',sep = \":::\", engine = \"python\", header =None)\n"
   ]
  },
  {
   "cell_type": "markdown",
   "id": "0b77f237-e897-4ef7-b9ac-2549e12519b4",
   "metadata": {},
   "source": [
    "pandas.read_csv has two engines that do the actual work behind the scenes:\n",
    "\n",
    "\n",
    "\n",
    "\n",
    "read csv didnot able to seprate the column by deafault c engine so we use the python engine do that wolk for us \n",
    "\n",
    "\n",
    "\n",
    "\n",
    "engine=\"c\" (default): very fast, written in C language.\n",
    "\n",
    "engine=\"python\": pure Python, a bit slower, but more flexible.\n",
    "\n",
    "✅ 2️⃣ Why do we use engine=\"python\" sometimes?\n",
    "Because:\n",
    "\n",
    "The C engine can only handle simple separators (like , or \\t).\n",
    "\n",
    "The Python engine can handle complex/multi-character separators (like :::, regex, or weird patterns).\n",
    "\n",
    "\n",
    "HEADER MEANS  there is no heading so csv read give randon data to our heading to prevent this  we header = None  "
   ]
  },
  {
   "cell_type": "code",
   "execution_count": 10,
   "id": "2703f1cf-0d29-412b-9d3d-4cd566789c6f",
   "metadata": {},
   "outputs": [
    {
     "data": {
      "text/html": [
       "<div>\n",
       "<style scoped>\n",
       "    .dataframe tbody tr th:only-of-type {\n",
       "        vertical-align: middle;\n",
       "    }\n",
       "\n",
       "    .dataframe tbody tr th {\n",
       "        vertical-align: top;\n",
       "    }\n",
       "\n",
       "    .dataframe thead th {\n",
       "        text-align: right;\n",
       "    }\n",
       "</style>\n",
       "<table border=\"1\" class=\"dataframe\">\n",
       "  <thead>\n",
       "    <tr style=\"text-align: right;\">\n",
       "      <th></th>\n",
       "      <th>0</th>\n",
       "      <th>1</th>\n",
       "      <th>2</th>\n",
       "      <th>3</th>\n",
       "    </tr>\n",
       "  </thead>\n",
       "  <tbody>\n",
       "    <tr>\n",
       "      <th>2870</th>\n",
       "      <td>2871</td>\n",
       "      <td>Underbelly (2007)</td>\n",
       "      <td>horror</td>\n",
       "      <td>Henry Rose is a young writer who is on top of...</td>\n",
       "    </tr>\n",
       "    <tr>\n",
       "      <th>45897</th>\n",
       "      <td>45898</td>\n",
       "      <td>Tearing Down the Tent (2009)</td>\n",
       "      <td>documentary</td>\n",
       "      <td>This documentary grants viewers a backstage p...</td>\n",
       "    </tr>\n",
       "    <tr>\n",
       "      <th>40351</th>\n",
       "      <td>40352</td>\n",
       "      <td>\"60 Days In\" (2016)</td>\n",
       "      <td>reality-tv</td>\n",
       "      <td>The program gets two new members in Isaiah an...</td>\n",
       "    </tr>\n",
       "    <tr>\n",
       "      <th>34410</th>\n",
       "      <td>34411</td>\n",
       "      <td>Surreal Estate (2013)</td>\n",
       "      <td>reality-tv</td>\n",
       "      <td>In this one-hour special, viewers will meet e...</td>\n",
       "    </tr>\n",
       "    <tr>\n",
       "      <th>29200</th>\n",
       "      <td>29201</td>\n",
       "      <td>Fan (2009/I)</td>\n",
       "      <td>drama</td>\n",
       "      <td>Four teenagers find themselves in a treatment...</td>\n",
       "    </tr>\n",
       "    <tr>\n",
       "      <th>17546</th>\n",
       "      <td>17547</td>\n",
       "      <td>Bangalore in Motion (2013)</td>\n",
       "      <td>short</td>\n",
       "      <td>A series of time lapses intertwine to reveal ...</td>\n",
       "    </tr>\n",
       "    <tr>\n",
       "      <th>12000</th>\n",
       "      <td>12001</td>\n",
       "      <td>Takim böyle tutulur (2005)</td>\n",
       "      <td>documentary</td>\n",
       "      <td>After watching their team lose several big ga...</td>\n",
       "    </tr>\n",
       "    <tr>\n",
       "      <th>2899</th>\n",
       "      <td>2900</td>\n",
       "      <td>Busy Bodies (2005)</td>\n",
       "      <td>short</td>\n",
       "      <td>The starting point for this film is a buildin...</td>\n",
       "    </tr>\n",
       "    <tr>\n",
       "      <th>33590</th>\n",
       "      <td>33591</td>\n",
       "      <td>Looking Out (1999)</td>\n",
       "      <td>short</td>\n",
       "      <td>Joe just got out of prison and has a new outl...</td>\n",
       "    </tr>\n",
       "    <tr>\n",
       "      <th>22321</th>\n",
       "      <td>22322</td>\n",
       "      <td>Crackerjack (2013)</td>\n",
       "      <td>comedy</td>\n",
       "      <td>In the off-beat style of NAPOLEON DYNAMITE, t...</td>\n",
       "    </tr>\n",
       "  </tbody>\n",
       "</table>\n",
       "</div>"
      ],
      "text/plain": [
       "           0                               1              2  \\\n",
       "2870    2871              Underbelly (2007)         horror    \n",
       "45897  45898   Tearing Down the Tent (2009)    documentary    \n",
       "40351  40352            \"60 Days In\" (2016)     reality-tv    \n",
       "34410  34411          Surreal Estate (2013)     reality-tv    \n",
       "29200  29201                   Fan (2009/I)          drama    \n",
       "17546  17547     Bangalore in Motion (2013)          short    \n",
       "12000  12001     Takim böyle tutulur (2005)    documentary    \n",
       "2899    2900             Busy Bodies (2005)          short    \n",
       "33590  33591             Looking Out (1999)          short    \n",
       "22321  22322             Crackerjack (2013)         comedy    \n",
       "\n",
       "                                                       3  \n",
       "2870    Henry Rose is a young writer who is on top of...  \n",
       "45897   This documentary grants viewers a backstage p...  \n",
       "40351   The program gets two new members in Isaiah an...  \n",
       "34410   In this one-hour special, viewers will meet e...  \n",
       "29200   Four teenagers find themselves in a treatment...  \n",
       "17546   A series of time lapses intertwine to reveal ...  \n",
       "12000   After watching their team lose several big ga...  \n",
       "2899    The starting point for this film is a buildin...  \n",
       "33590   Joe just got out of prison and has a new outl...  \n",
       "22321   In the off-beat style of NAPOLEON DYNAMITE, t...  "
      ]
     },
     "execution_count": 10,
     "metadata": {},
     "output_type": "execute_result"
    }
   ],
   "source": [
    "DataFrame.sample(10)"
   ]
  },
  {
   "cell_type": "markdown",
   "id": "7fd6e2ee-8ae0-4c7d-873c-8005d5a8d7d8",
   "metadata": {},
   "source": [
    "1 ]] Data cleaning "
   ]
  },
  {
   "cell_type": "code",
   "execution_count": 11,
   "id": "630ec03e-1108-4fc9-91c0-b8dba51eb68c",
   "metadata": {},
   "outputs": [
    {
     "data": {
      "text/html": [
       "<div>\n",
       "<style scoped>\n",
       "    .dataframe tbody tr th:only-of-type {\n",
       "        vertical-align: middle;\n",
       "    }\n",
       "\n",
       "    .dataframe tbody tr th {\n",
       "        vertical-align: top;\n",
       "    }\n",
       "\n",
       "    .dataframe thead th {\n",
       "        text-align: right;\n",
       "    }\n",
       "</style>\n",
       "<table border=\"1\" class=\"dataframe\">\n",
       "  <thead>\n",
       "    <tr style=\"text-align: right;\">\n",
       "      <th></th>\n",
       "      <th>0</th>\n",
       "      <th>1</th>\n",
       "      <th>2</th>\n",
       "      <th>3</th>\n",
       "    </tr>\n",
       "  </thead>\n",
       "  <tbody>\n",
       "    <tr>\n",
       "      <th>27354</th>\n",
       "      <td>27355</td>\n",
       "      <td>A Sort of Paradise (1965)</td>\n",
       "      <td>documentary</td>\n",
       "      <td>Atittan and the people of the Magic Lake in t...</td>\n",
       "    </tr>\n",
       "  </tbody>\n",
       "</table>\n",
       "</div>"
      ],
      "text/plain": [
       "           0                            1              2  \\\n",
       "27354  27355   A Sort of Paradise (1965)    documentary    \n",
       "\n",
       "                                                       3  \n",
       "27354   Atittan and the people of the Magic Lake in t...  "
      ]
     },
     "execution_count": 11,
     "metadata": {},
     "output_type": "execute_result"
    }
   ],
   "source": [
    "DataFrame.sample()"
   ]
  },
  {
   "cell_type": "code",
   "execution_count": 12,
   "id": "02ca2c39-4d5f-4528-9fac-25457ebb37c2",
   "metadata": {},
   "outputs": [],
   "source": [
    "# two waste column !! we have to remove !! \n",
    "DataFrame = DataFrame.drop([0,1], axis =  1 )   # axis 1 for the column and 0 for the row !! \n"
   ]
  },
  {
   "cell_type": "code",
   "execution_count": 13,
   "id": "c5b0ef92-5b4d-415b-ad07-ee9c34fd63bd",
   "metadata": {},
   "outputs": [
    {
     "data": {
      "text/html": [
       "<div>\n",
       "<style scoped>\n",
       "    .dataframe tbody tr th:only-of-type {\n",
       "        vertical-align: middle;\n",
       "    }\n",
       "\n",
       "    .dataframe tbody tr th {\n",
       "        vertical-align: top;\n",
       "    }\n",
       "\n",
       "    .dataframe thead th {\n",
       "        text-align: right;\n",
       "    }\n",
       "</style>\n",
       "<table border=\"1\" class=\"dataframe\">\n",
       "  <thead>\n",
       "    <tr style=\"text-align: right;\">\n",
       "      <th></th>\n",
       "      <th>2</th>\n",
       "      <th>3</th>\n",
       "    </tr>\n",
       "  </thead>\n",
       "  <tbody>\n",
       "    <tr>\n",
       "      <th>9560</th>\n",
       "      <td>comedy</td>\n",
       "      <td>Ezra Stone and his struggling performer buddi...</td>\n",
       "    </tr>\n",
       "    <tr>\n",
       "      <th>52596</th>\n",
       "      <td>drama</td>\n",
       "      <td>In the middle of Västgötaslätten lies Wargön,...</td>\n",
       "    </tr>\n",
       "    <tr>\n",
       "      <th>18905</th>\n",
       "      <td>short</td>\n",
       "      <td>A young girl is burdened with the news that h...</td>\n",
       "    </tr>\n",
       "    <tr>\n",
       "      <th>23980</th>\n",
       "      <td>documentary</td>\n",
       "      <td>An examination of Cuba's \"moral purges\" that ...</td>\n",
       "    </tr>\n",
       "    <tr>\n",
       "      <th>41325</th>\n",
       "      <td>documentary</td>\n",
       "      <td>The Tipping Points is a landmark TV series th...</td>\n",
       "    </tr>\n",
       "    <tr>\n",
       "      <th>50276</th>\n",
       "      <td>drama</td>\n",
       "      <td>On Christmas Eve in the Spanish quarter of L....</td>\n",
       "    </tr>\n",
       "    <tr>\n",
       "      <th>25361</th>\n",
       "      <td>documentary</td>\n",
       "      <td>Jyväskylän meininki is a one hour long docume...</td>\n",
       "    </tr>\n",
       "    <tr>\n",
       "      <th>47510</th>\n",
       "      <td>comedy</td>\n",
       "      <td>A Portuguese immigrant in Holland dies in an ...</td>\n",
       "    </tr>\n",
       "    <tr>\n",
       "      <th>21139</th>\n",
       "      <td>drama</td>\n",
       "      <td>This is a desert island movie with a twist; t...</td>\n",
       "    </tr>\n",
       "    <tr>\n",
       "      <th>22700</th>\n",
       "      <td>comedy</td>\n",
       "      <td>James and Scott's one shared goal, to become ...</td>\n",
       "    </tr>\n",
       "    <tr>\n",
       "      <th>44917</th>\n",
       "      <td>drama</td>\n",
       "      <td>A clique of girls in an English school wear a...</td>\n",
       "    </tr>\n",
       "    <tr>\n",
       "      <th>516</th>\n",
       "      <td>action</td>\n",
       "      <td>Rammohan lives a poor lifestyle in India alon...</td>\n",
       "    </tr>\n",
       "    <tr>\n",
       "      <th>43577</th>\n",
       "      <td>fantasy</td>\n",
       "      <td>How do you stop a rogue god? Balthazar, one o...</td>\n",
       "    </tr>\n",
       "    <tr>\n",
       "      <th>47451</th>\n",
       "      <td>documentary</td>\n",
       "      <td>With gasoline prices approaching $4/gallon, f...</td>\n",
       "    </tr>\n",
       "    <tr>\n",
       "      <th>27718</th>\n",
       "      <td>documentary</td>\n",
       "      <td>A one hour anthology special on the music and...</td>\n",
       "    </tr>\n",
       "    <tr>\n",
       "      <th>18047</th>\n",
       "      <td>drama</td>\n",
       "      <td>7 years ago, small-time gangster Meor went mi...</td>\n",
       "    </tr>\n",
       "    <tr>\n",
       "      <th>44667</th>\n",
       "      <td>thriller</td>\n",
       "      <td>After the sudden death of her famous twin bro...</td>\n",
       "    </tr>\n",
       "    <tr>\n",
       "      <th>34884</th>\n",
       "      <td>documentary</td>\n",
       "      <td>In Berlin in 1935, Regina Jonas made history ...</td>\n",
       "    </tr>\n",
       "    <tr>\n",
       "      <th>2454</th>\n",
       "      <td>documentary</td>\n",
       "      <td>Every three months, a Chinese single mother, ...</td>\n",
       "    </tr>\n",
       "    <tr>\n",
       "      <th>28339</th>\n",
       "      <td>drama</td>\n",
       "      <td>This presentation of Act IV--the Masque scene...</td>\n",
       "    </tr>\n",
       "  </tbody>\n",
       "</table>\n",
       "</div>"
      ],
      "text/plain": [
       "                   2                                                  3\n",
       "9560         comedy    Ezra Stone and his struggling performer buddi...\n",
       "52596         drama    In the middle of Västgötaslätten lies Wargön,...\n",
       "18905         short    A young girl is burdened with the news that h...\n",
       "23980   documentary    An examination of Cuba's \"moral purges\" that ...\n",
       "41325   documentary    The Tipping Points is a landmark TV series th...\n",
       "50276         drama    On Christmas Eve in the Spanish quarter of L....\n",
       "25361   documentary    Jyväskylän meininki is a one hour long docume...\n",
       "47510        comedy    A Portuguese immigrant in Holland dies in an ...\n",
       "21139         drama    This is a desert island movie with a twist; t...\n",
       "22700        comedy    James and Scott's one shared goal, to become ...\n",
       "44917         drama    A clique of girls in an English school wear a...\n",
       "516          action    Rammohan lives a poor lifestyle in India alon...\n",
       "43577       fantasy    How do you stop a rogue god? Balthazar, one o...\n",
       "47451   documentary    With gasoline prices approaching $4/gallon, f...\n",
       "27718   documentary    A one hour anthology special on the music and...\n",
       "18047         drama    7 years ago, small-time gangster Meor went mi...\n",
       "44667      thriller    After the sudden death of her famous twin bro...\n",
       "34884   documentary    In Berlin in 1935, Regina Jonas made history ...\n",
       "2454    documentary    Every three months, a Chinese single mother, ...\n",
       "28339         drama    This presentation of Act IV--the Masque scene..."
      ]
     },
     "execution_count": 13,
     "metadata": {},
     "output_type": "execute_result"
    }
   ],
   "source": [
    "DataFrame.sample(20)"
   ]
  },
  {
   "cell_type": "code",
   "execution_count": 14,
   "id": "5dc951e7-47de-4340-b5ab-944acd6b738e",
   "metadata": {},
   "outputs": [
    {
     "data": {
      "text/plain": [
       "(54214, 2)"
      ]
     },
     "execution_count": 14,
     "metadata": {},
     "output_type": "execute_result"
    }
   ],
   "source": [
    "DataFrame.shape"
   ]
  },
  {
   "cell_type": "code",
   "execution_count": 15,
   "id": "e21ec2bc-c8af-4a15-aba9-5ec8f2028f29",
   "metadata": {},
   "outputs": [],
   "source": [
    "# renaming the column for our ease !! \n",
    "DataFrame = DataFrame.rename(columns = {2 : 'Genres' , 3 : 'Text_input' })\n"
   ]
  },
  {
   "cell_type": "code",
   "execution_count": 16,
   "id": "4ee87a78-9286-4d12-8fdd-0341cbf28d2c",
   "metadata": {},
   "outputs": [
    {
     "data": {
      "text/html": [
       "<div>\n",
       "<style scoped>\n",
       "    .dataframe tbody tr th:only-of-type {\n",
       "        vertical-align: middle;\n",
       "    }\n",
       "\n",
       "    .dataframe tbody tr th {\n",
       "        vertical-align: top;\n",
       "    }\n",
       "\n",
       "    .dataframe thead th {\n",
       "        text-align: right;\n",
       "    }\n",
       "</style>\n",
       "<table border=\"1\" class=\"dataframe\">\n",
       "  <thead>\n",
       "    <tr style=\"text-align: right;\">\n",
       "      <th></th>\n",
       "      <th>Genres</th>\n",
       "      <th>Text_input</th>\n",
       "    </tr>\n",
       "  </thead>\n",
       "  <tbody>\n",
       "    <tr>\n",
       "      <th>3786</th>\n",
       "      <td>documentary</td>\n",
       "      <td>Africa's development is being held back by po...</td>\n",
       "    </tr>\n",
       "    <tr>\n",
       "      <th>28241</th>\n",
       "      <td>documentary</td>\n",
       "      <td>Summer 2015. 20 year old Simon heads to a fes...</td>\n",
       "    </tr>\n",
       "    <tr>\n",
       "      <th>46677</th>\n",
       "      <td>history</td>\n",
       "      <td>Adam Hart-Davis brings his own inimitable pre...</td>\n",
       "    </tr>\n",
       "    <tr>\n",
       "      <th>51362</th>\n",
       "      <td>western</td>\n",
       "      <td>Outlaw Wes McQueen is sprung from jail to hel...</td>\n",
       "    </tr>\n",
       "    <tr>\n",
       "      <th>44787</th>\n",
       "      <td>comedy</td>\n",
       "      <td>What would you do if you found out that in yo...</td>\n",
       "    </tr>\n",
       "    <tr>\n",
       "      <th>14539</th>\n",
       "      <td>romance</td>\n",
       "      <td>While Berlin-based businessman Paul Graf is i...</td>\n",
       "    </tr>\n",
       "    <tr>\n",
       "      <th>37175</th>\n",
       "      <td>short</td>\n",
       "      <td>Tired of running from his homicidal father, I...</td>\n",
       "    </tr>\n",
       "    <tr>\n",
       "      <th>9806</th>\n",
       "      <td>short</td>\n",
       "      <td>In September of 1827, rival hotel owners from...</td>\n",
       "    </tr>\n",
       "    <tr>\n",
       "      <th>19401</th>\n",
       "      <td>documentary</td>\n",
       "      <td>When New Orleans' Mardi Gras Indian Chief Too...</td>\n",
       "    </tr>\n",
       "    <tr>\n",
       "      <th>1627</th>\n",
       "      <td>short</td>\n",
       "      <td>The bourgeois couple Esther and Michael have ...</td>\n",
       "    </tr>\n",
       "  </tbody>\n",
       "</table>\n",
       "</div>"
      ],
      "text/plain": [
       "              Genres                                         Text_input\n",
       "3786    documentary    Africa's development is being held back by po...\n",
       "28241   documentary    Summer 2015. 20 year old Simon heads to a fes...\n",
       "46677       history    Adam Hart-Davis brings his own inimitable pre...\n",
       "51362       western    Outlaw Wes McQueen is sprung from jail to hel...\n",
       "44787        comedy    What would you do if you found out that in yo...\n",
       "14539       romance    While Berlin-based businessman Paul Graf is i...\n",
       "37175         short    Tired of running from his homicidal father, I...\n",
       "9806          short    In September of 1827, rival hotel owners from...\n",
       "19401   documentary    When New Orleans' Mardi Gras Indian Chief Too...\n",
       "1627          short    The bourgeois couple Esther and Michael have ..."
      ]
     },
     "execution_count": 16,
     "metadata": {},
     "output_type": "execute_result"
    }
   ],
   "source": [
    "DataFrame.sample(10)"
   ]
  },
  {
   "cell_type": "code",
   "execution_count": 17,
   "id": "2c13a687-03ef-489d-b003-a34bc66bf8d0",
   "metadata": {},
   "outputs": [],
   "source": [
    "# now using the label encounter for the changing the genres into the machines to understand bhai !!! we use the label encoder we find this on the \n",
    "# sklearn.preprocessing module under the  LabelEncoder  and the function name is .fit_transform(argument) ; \n",
    "from sklearn.preprocessing import LabelEncoder \n",
    "\n",
    "encoder = LabelEncoder()\n",
    "DataFrame['Genres']  = encoder.fit_transform(DataFrame['Genres'])\n",
    "\n"
   ]
  },
  {
   "cell_type": "code",
   "execution_count": 18,
   "id": "1dc0f82a-cd56-4a24-8212-b1fa98a07825",
   "metadata": {},
   "outputs": [
    {
     "data": {
      "text/html": [
       "<div>\n",
       "<style scoped>\n",
       "    .dataframe tbody tr th:only-of-type {\n",
       "        vertical-align: middle;\n",
       "    }\n",
       "\n",
       "    .dataframe tbody tr th {\n",
       "        vertical-align: top;\n",
       "    }\n",
       "\n",
       "    .dataframe thead th {\n",
       "        text-align: right;\n",
       "    }\n",
       "</style>\n",
       "<table border=\"1\" class=\"dataframe\">\n",
       "  <thead>\n",
       "    <tr style=\"text-align: right;\">\n",
       "      <th></th>\n",
       "      <th>Genres</th>\n",
       "      <th>Text_input</th>\n",
       "    </tr>\n",
       "  </thead>\n",
       "  <tbody>\n",
       "    <tr>\n",
       "      <th>26702</th>\n",
       "      <td>2</td>\n",
       "      <td>The Thorn is a visually dynamic and heart-sti...</td>\n",
       "    </tr>\n",
       "    <tr>\n",
       "      <th>5793</th>\n",
       "      <td>7</td>\n",
       "      <td>Theme parks across America compete to build t...</td>\n",
       "    </tr>\n",
       "    <tr>\n",
       "      <th>29842</th>\n",
       "      <td>21</td>\n",
       "      <td>Stephanie is the Manager of an all girl singi...</td>\n",
       "    </tr>\n",
       "    <tr>\n",
       "      <th>42601</th>\n",
       "      <td>7</td>\n",
       "      <td>With Jerry Lewis (1926-2017) as executive pro...</td>\n",
       "    </tr>\n",
       "    <tr>\n",
       "      <th>33524</th>\n",
       "      <td>8</td>\n",
       "      <td>Fabián, a magician from Buenos Aires, saves h...</td>\n",
       "    </tr>\n",
       "    <tr>\n",
       "      <th>34546</th>\n",
       "      <td>5</td>\n",
       "      <td>A morning show parody. Take the usual daily d...</td>\n",
       "    </tr>\n",
       "    <tr>\n",
       "      <th>23577</th>\n",
       "      <td>7</td>\n",
       "      <td>A short documentary on the private lives of t...</td>\n",
       "    </tr>\n",
       "    <tr>\n",
       "      <th>40091</th>\n",
       "      <td>3</td>\n",
       "      <td>It is the year 2015, the final era over which...</td>\n",
       "    </tr>\n",
       "    <tr>\n",
       "      <th>53879</th>\n",
       "      <td>5</td>\n",
       "      <td>A comedy web series about a father who was re...</td>\n",
       "    </tr>\n",
       "    <tr>\n",
       "      <th>48550</th>\n",
       "      <td>8</td>\n",
       "      <td>Joel masks his mediocre life and a sick relat...</td>\n",
       "    </tr>\n",
       "  </tbody>\n",
       "</table>\n",
       "</div>"
      ],
      "text/plain": [
       "       Genres                                         Text_input\n",
       "26702       2   The Thorn is a visually dynamic and heart-sti...\n",
       "5793        7   Theme parks across America compete to build t...\n",
       "29842      21   Stephanie is the Manager of an all girl singi...\n",
       "42601       7   With Jerry Lewis (1926-2017) as executive pro...\n",
       "33524       8   Fabián, a magician from Buenos Aires, saves h...\n",
       "34546       5   A morning show parody. Take the usual daily d...\n",
       "23577       7   A short documentary on the private lives of t...\n",
       "40091       3   It is the year 2015, the final era over which...\n",
       "53879       5   A comedy web series about a father who was re...\n",
       "48550       8   Joel masks his mediocre life and a sick relat..."
      ]
     },
     "execution_count": 18,
     "metadata": {},
     "output_type": "execute_result"
    }
   ],
   "source": [
    "DataFrame.sample(10)"
   ]
  },
  {
   "cell_type": "code",
   "execution_count": 19,
   "id": "19ca1cd0-26d7-4400-a987-d2e179e6dc48",
   "metadata": {},
   "outputs": [
    {
     "name": "stdout",
     "output_type": "stream",
     "text": [
      "[' action ' ' adult ' ' adventure ' ' animation ' ' biography ' ' comedy '\n",
      " ' crime ' ' documentary ' ' drama ' ' family ' ' fantasy ' ' game-show '\n",
      " ' history ' ' horror ' ' music ' ' musical ' ' mystery ' ' news '\n",
      " ' reality-tv ' ' romance ' ' sci-fi ' ' short ' ' sport ' ' talk-show '\n",
      " ' thriller ' ' war ' ' western ']\n"
     ]
    }
   ],
   "source": [
    "print(encoder.classes_)   # Shows which genre is mapped to which number\n",
    "        # Shows first 5 encoded genre labels"
   ]
  },
  {
   "cell_type": "code",
   "execution_count": 20,
   "id": "edc2e8e1-9f1b-48aa-bfa3-8caf65c6aca2",
   "metadata": {},
   "outputs": [
    {
     "name": "stdout",
     "output_type": "stream",
     "text": [
      "0  action \n",
      "1  adult \n",
      "2  adventure \n",
      "3  animation \n",
      "4  biography \n",
      "5  comedy \n",
      "6  crime \n",
      "7  documentary \n",
      "8  drama \n",
      "9  family \n",
      "10  fantasy \n",
      "11  game-show \n",
      "12  history \n",
      "13  horror \n",
      "14  music \n",
      "15  musical \n",
      "16  mystery \n",
      "17  news \n",
      "18  reality-tv \n",
      "19  romance \n",
      "20  sci-fi \n",
      "21  short \n",
      "22  sport \n",
      "23  talk-show \n",
      "24  thriller \n",
      "25  war \n",
      "26  western \n"
     ]
    }
   ],
   "source": [
    "for i in range(len(encoder.classes_)):\n",
    "    print (i,encoder.classes_[i])\n",
    "\n",
    "# identifiying which number is matches with which Genres !!! \n",
    "\n"
   ]
  },
  {
   "cell_type": "code",
   "execution_count": 21,
   "id": "5f01bd8c-ba4e-447f-a9d8-e531c8ed6035",
   "metadata": {},
   "outputs": [
    {
     "data": {
      "text/html": [
       "<div>\n",
       "<style scoped>\n",
       "    .dataframe tbody tr th:only-of-type {\n",
       "        vertical-align: middle;\n",
       "    }\n",
       "\n",
       "    .dataframe tbody tr th {\n",
       "        vertical-align: top;\n",
       "    }\n",
       "\n",
       "    .dataframe thead th {\n",
       "        text-align: right;\n",
       "    }\n",
       "</style>\n",
       "<table border=\"1\" class=\"dataframe\">\n",
       "  <thead>\n",
       "    <tr style=\"text-align: right;\">\n",
       "      <th></th>\n",
       "      <th>Genres</th>\n",
       "      <th>Text_input</th>\n",
       "    </tr>\n",
       "  </thead>\n",
       "  <tbody>\n",
       "    <tr>\n",
       "      <th>43420</th>\n",
       "      <td>13</td>\n",
       "      <td>In response to the legend that the \"Manson Fa...</td>\n",
       "    </tr>\n",
       "    <tr>\n",
       "      <th>3079</th>\n",
       "      <td>21</td>\n",
       "      <td>It was the autumn Trygve turned 12. The autum...</td>\n",
       "    </tr>\n",
       "    <tr>\n",
       "      <th>2180</th>\n",
       "      <td>26</td>\n",
       "      <td>After 10 years in prison, a man who was betra...</td>\n",
       "    </tr>\n",
       "    <tr>\n",
       "      <th>44849</th>\n",
       "      <td>21</td>\n",
       "      <td>This exciting and humorous adventure takes yo...</td>\n",
       "    </tr>\n",
       "    <tr>\n",
       "      <th>46057</th>\n",
       "      <td>8</td>\n",
       "      <td>A tragic love story between the daughter of P...</td>\n",
       "    </tr>\n",
       "    <tr>\n",
       "      <th>21178</th>\n",
       "      <td>0</td>\n",
       "      <td>What if two flawed female police officers sea...</td>\n",
       "    </tr>\n",
       "    <tr>\n",
       "      <th>8056</th>\n",
       "      <td>14</td>\n",
       "      <td>Jřrgen Mylius and Lone Illum present live mus...</td>\n",
       "    </tr>\n",
       "    <tr>\n",
       "      <th>26661</th>\n",
       "      <td>13</td>\n",
       "      <td>Two paranormal investigators are unexpectedly...</td>\n",
       "    </tr>\n",
       "    <tr>\n",
       "      <th>50600</th>\n",
       "      <td>7</td>\n",
       "      <td>The film-documentary tells about Claudio Abba...</td>\n",
       "    </tr>\n",
       "    <tr>\n",
       "      <th>23124</th>\n",
       "      <td>7</td>\n",
       "      <td>\"It was an era, it was the start of a new vis...</td>\n",
       "    </tr>\n",
       "    <tr>\n",
       "      <th>15394</th>\n",
       "      <td>8</td>\n",
       "      <td>\"Who ever said you can never go home again, n...</td>\n",
       "    </tr>\n",
       "    <tr>\n",
       "      <th>26421</th>\n",
       "      <td>8</td>\n",
       "      <td>Doctor Rafael Abraham (Karlo Manalo) and his ...</td>\n",
       "    </tr>\n",
       "    <tr>\n",
       "      <th>34393</th>\n",
       "      <td>8</td>\n",
       "      <td>A book is sent to the publishers under the na...</td>\n",
       "    </tr>\n",
       "    <tr>\n",
       "      <th>29611</th>\n",
       "      <td>25</td>\n",
       "      <td>After the fall of Manila, the Americans were ...</td>\n",
       "    </tr>\n",
       "    <tr>\n",
       "      <th>32085</th>\n",
       "      <td>21</td>\n",
       "      <td>The first film of cinematographic history sho...</td>\n",
       "    </tr>\n",
       "    <tr>\n",
       "      <th>46495</th>\n",
       "      <td>8</td>\n",
       "      <td>The tragicomedy of the absurd, is based on th...</td>\n",
       "    </tr>\n",
       "    <tr>\n",
       "      <th>3439</th>\n",
       "      <td>7</td>\n",
       "      <td>As Udo Kier guides us through Europe's galler...</td>\n",
       "    </tr>\n",
       "    <tr>\n",
       "      <th>12338</th>\n",
       "      <td>21</td>\n",
       "      <td>TMWQ (2013) is a contemporary take on Robert ...</td>\n",
       "    </tr>\n",
       "    <tr>\n",
       "      <th>32149</th>\n",
       "      <td>8</td>\n",
       "      <td>The movie \"Life Sold Separately\" (1997) is ab...</td>\n",
       "    </tr>\n",
       "    <tr>\n",
       "      <th>44731</th>\n",
       "      <td>5</td>\n",
       "      <td>Tera Mera Tedha Medha (TMTM) is a quirky-tops...</td>\n",
       "    </tr>\n",
       "  </tbody>\n",
       "</table>\n",
       "</div>"
      ],
      "text/plain": [
       "       Genres                                         Text_input\n",
       "43420      13   In response to the legend that the \"Manson Fa...\n",
       "3079       21   It was the autumn Trygve turned 12. The autum...\n",
       "2180       26   After 10 years in prison, a man who was betra...\n",
       "44849      21   This exciting and humorous adventure takes yo...\n",
       "46057       8   A tragic love story between the daughter of P...\n",
       "21178       0   What if two flawed female police officers sea...\n",
       "8056       14   Jřrgen Mylius and Lone Illum present live mus...\n",
       "26661      13   Two paranormal investigators are unexpectedly...\n",
       "50600       7   The film-documentary tells about Claudio Abba...\n",
       "23124       7   \"It was an era, it was the start of a new vis...\n",
       "15394       8   \"Who ever said you can never go home again, n...\n",
       "26421       8   Doctor Rafael Abraham (Karlo Manalo) and his ...\n",
       "34393       8   A book is sent to the publishers under the na...\n",
       "29611      25   After the fall of Manila, the Americans were ...\n",
       "32085      21   The first film of cinematographic history sho...\n",
       "46495       8   The tragicomedy of the absurd, is based on th...\n",
       "3439        7   As Udo Kier guides us through Europe's galler...\n",
       "12338      21   TMWQ (2013) is a contemporary take on Robert ...\n",
       "32149       8   The movie \"Life Sold Separately\" (1997) is ab...\n",
       "44731       5   Tera Mera Tedha Medha (TMTM) is a quirky-tops..."
      ]
     },
     "execution_count": 21,
     "metadata": {},
     "output_type": "execute_result"
    }
   ],
   "source": [
    "DataFrame.sample(20)"
   ]
  },
  {
   "cell_type": "code",
   "execution_count": 22,
   "id": "682506e4-0a91-4de9-948e-89e9ec6497a7",
   "metadata": {},
   "outputs": [
    {
     "data": {
      "text/plain": [
       "Genres        0\n",
       "Text_input    0\n",
       "dtype: int64"
      ]
     },
     "execution_count": 22,
     "metadata": {},
     "output_type": "execute_result"
    }
   ],
   "source": [
    "# for our own saftey check any Empty data is there or not !! \n",
    "DataFrame.isnull().sum()"
   ]
  },
  {
   "cell_type": "code",
   "execution_count": 23,
   "id": "f3721839-98a0-4920-af93-0bc8381b444a",
   "metadata": {},
   "outputs": [
    {
     "data": {
      "text/plain": [
       "np.int64(109)"
      ]
     },
     "execution_count": 23,
     "metadata": {},
     "output_type": "execute_result"
    }
   ],
   "source": [
    "# similary check there is any duplicate data or not !! \n",
    "DataFrame.duplicated().sum()"
   ]
  },
  {
   "cell_type": "code",
   "execution_count": 24,
   "id": "4cded31d-0bd0-40b5-a376-85e2fad8fec8",
   "metadata": {},
   "outputs": [],
   "source": [
    "# what the hell there are 109 duplicate data i have to remove it yarrr !!! \n",
    "# use the DataFrame.drop_duplicates()\n",
    "DataFrame = DataFrame.drop_duplicates()\n",
    "\n"
   ]
  },
  {
   "cell_type": "code",
   "execution_count": 25,
   "id": "4a1d5775-682c-489d-aab7-82a52246f77e",
   "metadata": {},
   "outputs": [
    {
     "data": {
      "text/plain": [
       "np.int64(0)"
      ]
     },
     "execution_count": 25,
     "metadata": {},
     "output_type": "execute_result"
    }
   ],
   "source": [
    "# recheck !! \n",
    "DataFrame.duplicated().sum()"
   ]
  },
  {
   "cell_type": "code",
   "execution_count": 26,
   "id": "b70fcf95-f01e-48fc-b4ab-dd171fe9ce14",
   "metadata": {},
   "outputs": [
    {
     "name": "stdout",
     "output_type": "stream",
     "text": [
      "Good to go now proced further !! \n"
     ]
    }
   ],
   "source": [
    "print(\"Good to go now proced further !! \")"
   ]
  },
  {
   "cell_type": "code",
   "execution_count": 27,
   "id": "be50a5e6-551c-4a96-8e14-0d148633e836",
   "metadata": {},
   "outputs": [
    {
     "name": "stdout",
     "output_type": "stream",
     "text": [
      "/home/N3xthar-Voryx/Internship02\n"
     ]
    }
   ],
   "source": [
    "# lets save our data for prevent our self from the data corruption !! \n",
    "import os \n",
    "print(os.getcwd())"
   ]
  },
  {
   "cell_type": "code",
   "execution_count": 28,
   "id": "b974c3f0-f1b7-4508-907b-47dee6285910",
   "metadata": {},
   "outputs": [],
   "source": [
    "# now dave our data !! \n",
    "DataFrame.to_csv('clean_movie_data.csv',index=False)"
   ]
  },
  {
   "cell_type": "markdown",
   "id": "cff450b4-bc01-46e8-b9d8-b413cc6c7468",
   "metadata": {},
   "source": [
    "    now move to EDA[EXPLORATORY DATA ANALYSIS !! ]"
   ]
  },
  {
   "cell_type": "code",
   "execution_count": 29,
   "id": "738e3879-4d2b-485b-bd39-6605064d3cbb",
   "metadata": {},
   "outputs": [
    {
     "data": {
      "text/html": [
       "<div>\n",
       "<style scoped>\n",
       "    .dataframe tbody tr th:only-of-type {\n",
       "        vertical-align: middle;\n",
       "    }\n",
       "\n",
       "    .dataframe tbody tr th {\n",
       "        vertical-align: top;\n",
       "    }\n",
       "\n",
       "    .dataframe thead th {\n",
       "        text-align: right;\n",
       "    }\n",
       "</style>\n",
       "<table border=\"1\" class=\"dataframe\">\n",
       "  <thead>\n",
       "    <tr style=\"text-align: right;\">\n",
       "      <th></th>\n",
       "      <th>Genres</th>\n",
       "      <th>Text_input</th>\n",
       "    </tr>\n",
       "  </thead>\n",
       "  <tbody>\n",
       "    <tr>\n",
       "      <th>29981</th>\n",
       "      <td>14</td>\n",
       "      <td>Captured across two nights at Madison Square ...</td>\n",
       "    </tr>\n",
       "    <tr>\n",
       "      <th>22100</th>\n",
       "      <td>21</td>\n",
       "      <td>Memories of a long-ago summer, as London beco...</td>\n",
       "    </tr>\n",
       "    <tr>\n",
       "      <th>41225</th>\n",
       "      <td>9</td>\n",
       "      <td>The adventures of THE HUMAN ENLIGHTENMENT MIS...</td>\n",
       "    </tr>\n",
       "    <tr>\n",
       "      <th>15557</th>\n",
       "      <td>21</td>\n",
       "      <td>In a bathroom set with diamonds, white cake, ...</td>\n",
       "    </tr>\n",
       "    <tr>\n",
       "      <th>35304</th>\n",
       "      <td>8</td>\n",
       "      <td>First version of Saratchandra's novel. Despit...</td>\n",
       "    </tr>\n",
       "    <tr>\n",
       "      <th>38921</th>\n",
       "      <td>8</td>\n",
       "      <td>Hollywood has a Dark Side. The Hard Edge of H...</td>\n",
       "    </tr>\n",
       "    <tr>\n",
       "      <th>28578</th>\n",
       "      <td>8</td>\n",
       "      <td>The cantor of the Vilna Synagogue, played by ...</td>\n",
       "    </tr>\n",
       "    <tr>\n",
       "      <th>1087</th>\n",
       "      <td>13</td>\n",
       "      <td>Monster-slaying hero Daisy Derkins ventures i...</td>\n",
       "    </tr>\n",
       "    <tr>\n",
       "      <th>49688</th>\n",
       "      <td>7</td>\n",
       "      <td>L'ULTIMA SPIAGGIA (The Last resort) describes...</td>\n",
       "    </tr>\n",
       "    <tr>\n",
       "      <th>39296</th>\n",
       "      <td>7</td>\n",
       "      <td>During Pink Floyd's \"Momentary Lapse of Reaso...</td>\n",
       "    </tr>\n",
       "  </tbody>\n",
       "</table>\n",
       "</div>"
      ],
      "text/plain": [
       "       Genres                                         Text_input\n",
       "29981      14   Captured across two nights at Madison Square ...\n",
       "22100      21   Memories of a long-ago summer, as London beco...\n",
       "41225       9   The adventures of THE HUMAN ENLIGHTENMENT MIS...\n",
       "15557      21   In a bathroom set with diamonds, white cake, ...\n",
       "35304       8   First version of Saratchandra's novel. Despit...\n",
       "38921       8   Hollywood has a Dark Side. The Hard Edge of H...\n",
       "28578       8   The cantor of the Vilna Synagogue, played by ...\n",
       "1087       13   Monster-slaying hero Daisy Derkins ventures i...\n",
       "49688       7   L'ULTIMA SPIAGGIA (The Last resort) describes...\n",
       "39296       7   During Pink Floyd's \"Momentary Lapse of Reaso..."
      ]
     },
     "execution_count": 29,
     "metadata": {},
     "output_type": "execute_result"
    }
   ],
   "source": [
    "DataFrame.sample(10)"
   ]
  },
  {
   "cell_type": "code",
   "execution_count": 30,
   "id": "ee96eaef-b839-43e8-a97c-375f0b9db448",
   "metadata": {},
   "outputs": [
    {
     "name": "stdout",
     "output_type": "stream",
     "text": [
      "0  action \n",
      "1  adult \n",
      "2  adventure \n",
      "3  animation \n",
      "4  biography \n",
      "5  comedy \n",
      "6  crime \n",
      "7  documentary \n",
      "8  drama \n",
      "9  family \n",
      "10  fantasy \n",
      "11  game-show \n",
      "12  history \n",
      "13  horror \n",
      "14  music \n",
      "15  musical \n",
      "16  mystery \n",
      "17  news \n",
      "18  reality-tv \n",
      "19  romance \n",
      "20  sci-fi \n",
      "21  short \n",
      "22  sport \n",
      "23  talk-show \n",
      "24  thriller \n",
      "25  war \n",
      "26  western \n"
     ]
    }
   ],
   "source": [
    "# now put to ourself which number is related to which  one \n",
    "for i in range(len(encoder.classes_)):\n",
    "    print(i,encoder.classes_[i])"
   ]
  },
  {
   "cell_type": "code",
   "execution_count": 31,
   "id": "fee72851-295e-4a44-bd36-0d98402f2ea1",
   "metadata": {},
   "outputs": [],
   "source": [
    "# now we are checking how many Genres words used it the whole data \n",
    "# DataFrame['Genres'].value_counts()\n",
    "\n"
   ]
  },
  {
   "cell_type": "code",
   "execution_count": 32,
   "id": "4345523c-9b6f-48c0-899c-f85c480201cd",
   "metadata": {},
   "outputs": [
    {
     "data": {
      "text/plain": [
       "Genres\n",
       "8     13578\n",
       "7     13079\n",
       "5      7432\n",
       "21     5062\n",
       "13     2204\n",
       "24     1591\n",
       "0      1313\n",
       "26     1032\n",
       "18      883\n",
       "9       776\n",
       "2       775\n",
       "14      719\n",
       "19      671\n",
       "20      647\n",
       "1       589\n",
       "6       504\n",
       "3       498\n",
       "22      430\n",
       "23      388\n",
       "10      323\n",
       "16      319\n",
       "15      277\n",
       "4       265\n",
       "12      243\n",
       "11      194\n",
       "17      181\n",
       "25      132\n",
       "Name: count, dtype: int64"
      ]
     },
     "execution_count": 32,
     "metadata": {},
     "output_type": "execute_result"
    }
   ],
   "source": [
    "    DataFrame['Genres'].value_counts()"
   ]
  },
  {
   "cell_type": "code",
   "execution_count": 33,
   "id": "56149185-76b8-4054-86a4-df0db29def0e",
   "metadata": {},
   "outputs": [
    {
     "data": {
      "text/html": [
       "<div>\n",
       "<style scoped>\n",
       "    .dataframe tbody tr th:only-of-type {\n",
       "        vertical-align: middle;\n",
       "    }\n",
       "\n",
       "    .dataframe tbody tr th {\n",
       "        vertical-align: top;\n",
       "    }\n",
       "\n",
       "    .dataframe thead th {\n",
       "        text-align: right;\n",
       "    }\n",
       "</style>\n",
       "<table border=\"1\" class=\"dataframe\">\n",
       "  <thead>\n",
       "    <tr style=\"text-align: right;\">\n",
       "      <th></th>\n",
       "      <th>Genres</th>\n",
       "      <th>Text_input</th>\n",
       "    </tr>\n",
       "  </thead>\n",
       "  <tbody>\n",
       "    <tr>\n",
       "      <th>47021</th>\n",
       "      <td>7</td>\n",
       "      <td>GAUCHO is an evocation of a dying way of life...</td>\n",
       "    </tr>\n",
       "    <tr>\n",
       "      <th>15609</th>\n",
       "      <td>7</td>\n",
       "      <td>\"Take a Bow\" is a documentary about developme...</td>\n",
       "    </tr>\n",
       "    <tr>\n",
       "      <th>32433</th>\n",
       "      <td>12</td>\n",
       "      <td>Ertugrul, launched in 1863, was a sailing fri...</td>\n",
       "    </tr>\n",
       "    <tr>\n",
       "      <th>5328</th>\n",
       "      <td>21</td>\n",
       "      <td>Who is waiting for who in the waiting area ? ...</td>\n",
       "    </tr>\n",
       "    <tr>\n",
       "      <th>47872</th>\n",
       "      <td>7</td>\n",
       "      <td>Oscar Ismael Poltronieri is an ordinary man. ...</td>\n",
       "    </tr>\n",
       "    <tr>\n",
       "      <th>38766</th>\n",
       "      <td>5</td>\n",
       "      <td>Even in Shreveport, Louisiana, people are now...</td>\n",
       "    </tr>\n",
       "    <tr>\n",
       "      <th>26712</th>\n",
       "      <td>21</td>\n",
       "      <td>EROTOMANIA: a psychological disorder marked b...</td>\n",
       "    </tr>\n",
       "    <tr>\n",
       "      <th>43105</th>\n",
       "      <td>13</td>\n",
       "      <td>This story revolves around Riya and her Docto...</td>\n",
       "    </tr>\n",
       "    <tr>\n",
       "      <th>40464</th>\n",
       "      <td>8</td>\n",
       "      <td>The family of Gary Ridgeway, the Green River ...</td>\n",
       "    </tr>\n",
       "    <tr>\n",
       "      <th>40930</th>\n",
       "      <td>5</td>\n",
       "      <td>AT BEST DERIVATIVE: A band of fledgling crimi...</td>\n",
       "    </tr>\n",
       "  </tbody>\n",
       "</table>\n",
       "</div>"
      ],
      "text/plain": [
       "       Genres                                         Text_input\n",
       "47021       7   GAUCHO is an evocation of a dying way of life...\n",
       "15609       7   \"Take a Bow\" is a documentary about developme...\n",
       "32433      12   Ertugrul, launched in 1863, was a sailing fri...\n",
       "5328       21   Who is waiting for who in the waiting area ? ...\n",
       "47872       7   Oscar Ismael Poltronieri is an ordinary man. ...\n",
       "38766       5   Even in Shreveport, Louisiana, people are now...\n",
       "26712      21   EROTOMANIA: a psychological disorder marked b...\n",
       "43105      13   This story revolves around Riya and her Docto...\n",
       "40464       8   The family of Gary Ridgeway, the Green River ...\n",
       "40930       5   AT BEST DERIVATIVE: A band of fledgling crimi..."
      ]
     },
     "execution_count": 33,
     "metadata": {},
     "output_type": "execute_result"
    }
   ],
   "source": [
    "DataFrame.sample(10)"
   ]
  },
  {
   "cell_type": "code",
   "execution_count": 34,
   "id": "1cbea132-afda-4742-83c1-9d9c013335af",
   "metadata": {},
   "outputs": [
    {
     "data": {
      "image/png": "[encoded data removed]",
      "text/plain": [
       "<Figure size 900x600 with 1 Axes>"
      ]
     },
     "metadata": {},
     "output_type": "display_data"
    }
   ],
   "source": [
    "# now we see in the graph  !!! \n",
    "import matplotlib.pyplot as plt\n",
    "\n",
    "# totol kitne Genres hai uske liye !! \n",
    "genre_count = DataFrame['Genres'].value_counts()\n",
    "\n",
    "# now ploting the bargraph \n",
    "\n",
    "# clarify the size of the graph !! \n",
    "plt.figure(figsize=(9,6))\n",
    "plt.bar(genre_count.index,genre_count.values, color = 'red')\n",
    "plt.ylabel('Number os movies')\n",
    "plt.xlabel('Genres')\n",
    "plt.show()\n"
   ]
  },
  {
   "cell_type": "code",
   "execution_count": 35,
   "id": "00e7fab3-c742-48c2-9812-cfa5631b77ec",
   "metadata": {},
   "outputs": [
    {
     "data": {
      "text/html": [
       "<div>\n",
       "<style scoped>\n",
       "    .dataframe tbody tr th:only-of-type {\n",
       "        vertical-align: middle;\n",
       "    }\n",
       "\n",
       "    .dataframe tbody tr th {\n",
       "        vertical-align: top;\n",
       "    }\n",
       "\n",
       "    .dataframe thead th {\n",
       "        text-align: right;\n",
       "    }\n",
       "</style>\n",
       "<table border=\"1\" class=\"dataframe\">\n",
       "  <thead>\n",
       "    <tr style=\"text-align: right;\">\n",
       "      <th></th>\n",
       "      <th>Genres</th>\n",
       "      <th>Text_input</th>\n",
       "    </tr>\n",
       "  </thead>\n",
       "  <tbody>\n",
       "    <tr>\n",
       "      <th>3542</th>\n",
       "      <td>5</td>\n",
       "      <td>Carlo wins some money in a card game and goes...</td>\n",
       "    </tr>\n",
       "    <tr>\n",
       "      <th>33385</th>\n",
       "      <td>8</td>\n",
       "      <td>A twenty-four-year-old former college student...</td>\n",
       "    </tr>\n",
       "    <tr>\n",
       "      <th>27550</th>\n",
       "      <td>7</td>\n",
       "      <td>This Documentary tells the extraordinary stor...</td>\n",
       "    </tr>\n",
       "    <tr>\n",
       "      <th>42169</th>\n",
       "      <td>8</td>\n",
       "      <td>In an effort to understand the plight of home...</td>\n",
       "    </tr>\n",
       "    <tr>\n",
       "      <th>38738</th>\n",
       "      <td>5</td>\n",
       "      <td>Ali Sunal and his crew discuss different topi...</td>\n",
       "    </tr>\n",
       "    <tr>\n",
       "      <th>1667</th>\n",
       "      <td>8</td>\n",
       "      <td>Peter, a young traffic cop, is asked to look ...</td>\n",
       "    </tr>\n",
       "    <tr>\n",
       "      <th>41397</th>\n",
       "      <td>8</td>\n",
       "      <td>A few days in the life of a quiet geisha, sin...</td>\n",
       "    </tr>\n",
       "    <tr>\n",
       "      <th>25505</th>\n",
       "      <td>21</td>\n",
       "      <td>A picture is a lasting memory, and a memory t...</td>\n",
       "    </tr>\n",
       "    <tr>\n",
       "      <th>20274</th>\n",
       "      <td>7</td>\n",
       "      <td>IT'S NOT ABOUT FAME but about finding a place...</td>\n",
       "    </tr>\n",
       "    <tr>\n",
       "      <th>15017</th>\n",
       "      <td>8</td>\n",
       "      <td>There are times when life suddenly breaks. Wh...</td>\n",
       "    </tr>\n",
       "  </tbody>\n",
       "</table>\n",
       "</div>"
      ],
      "text/plain": [
       "       Genres                                         Text_input\n",
       "3542        5   Carlo wins some money in a card game and goes...\n",
       "33385       8   A twenty-four-year-old former college student...\n",
       "27550       7   This Documentary tells the extraordinary stor...\n",
       "42169       8   In an effort to understand the plight of home...\n",
       "38738       5   Ali Sunal and his crew discuss different topi...\n",
       "1667        8   Peter, a young traffic cop, is asked to look ...\n",
       "41397       8   A few days in the life of a quiet geisha, sin...\n",
       "25505      21   A picture is a lasting memory, and a memory t...\n",
       "20274       7   IT'S NOT ABOUT FAME but about finding a place...\n",
       "15017       8   There are times when life suddenly breaks. Wh..."
      ]
     },
     "execution_count": 35,
     "metadata": {},
     "output_type": "execute_result"
    }
   ],
   "source": [
    "# means  drama '8' has highest movies \n",
    "\n",
    "\n",
    "# there is a lot of varitation in our data !! \n",
    "\n",
    "\n",
    "DataFrame.sample(10)\n"
   ]
  },
  {
   "cell_type": "markdown",
   "id": "55288625-31ff-4a64-8243-c47186ab8f5b",
   "metadata": {},
   "source": [
    "\n",
    " for the manipulartions of words we using the NLTK [Natural Language toolkit !! ]\n",
    " A popular Python library for NLP (Natural Language Processing)\n",
    "\n",
    " nltk.download('punkt')?\n",
    " 🔹 punkt is a pre-trained tokenizer model included in NLTK.\n",
    "\n",
    "  It allows you to split text into sentences or words easily.\n",
    "\n"
   ]
  },
  {
   "cell_type": "code",
   "execution_count": 36,
   "id": "8d64006a-e53d-4504-9cb3-61ac5978d663",
   "metadata": {},
   "outputs": [
    {
     "name": "stderr",
     "output_type": "stream",
     "text": [
      "[nltk_data] Downloading package punkt to /home/N3xthar-\n",
      "[nltk_data]     Voryx/nltk_data...\n",
      "[nltk_data]   Package punkt is already up-to-date!\n"
     ]
    },
    {
     "data": {
      "text/plain": [
       "True"
      ]
     },
     "execution_count": 36,
     "metadata": {},
     "output_type": "execute_result"
    }
   ],
   "source": [
    "import nltk   # \n",
    "nltk.download('punkt')\n",
    "\n",
    "# punkt is a pre-trained tokenizer model included in NLTK.\n",
    "\n",
    "# It allows you to split text into sentences or words easily.\n"
   ]
  },
  {
   "cell_type": "markdown",
   "id": "aadd56b6-9481-43b9-bf0e-9c1be8ea43e3",
   "metadata": {},
   "source": [
    "counting the total number of characters in the input text !"
   ]
  },
  {
   "cell_type": "code",
   "execution_count": 37,
   "id": "09b7535d-7c3e-4f68-be00-916b8671e2f1",
   "metadata": {},
   "outputs": [],
   "source": [
    "DataFrame['Total_Character'] = DataFrame['Text_input'].apply(len)"
   ]
  },
  {
   "cell_type": "code",
   "execution_count": 38,
   "id": "18bd293b-56d9-4eef-bab7-d8b35926a1ec",
   "metadata": {},
   "outputs": [
    {
     "data": {
      "text/html": [
       "<div>\n",
       "<style scoped>\n",
       "    .dataframe tbody tr th:only-of-type {\n",
       "        vertical-align: middle;\n",
       "    }\n",
       "\n",
       "    .dataframe tbody tr th {\n",
       "        vertical-align: top;\n",
       "    }\n",
       "\n",
       "    .dataframe thead th {\n",
       "        text-align: right;\n",
       "    }\n",
       "</style>\n",
       "<table border=\"1\" class=\"dataframe\">\n",
       "  <thead>\n",
       "    <tr style=\"text-align: right;\">\n",
       "      <th></th>\n",
       "      <th>Genres</th>\n",
       "      <th>Text_input</th>\n",
       "      <th>Total_Character</th>\n",
       "    </tr>\n",
       "  </thead>\n",
       "  <tbody>\n",
       "    <tr>\n",
       "      <th>8432</th>\n",
       "      <td>8</td>\n",
       "      <td>This is a love story about a young woman name...</td>\n",
       "      <td>819</td>\n",
       "    </tr>\n",
       "    <tr>\n",
       "      <th>51069</th>\n",
       "      <td>5</td>\n",
       "      <td>Giessen's gymnasium director Gottlieb Taft ho...</td>\n",
       "      <td>644</td>\n",
       "    </tr>\n",
       "    <tr>\n",
       "      <th>42892</th>\n",
       "      <td>8</td>\n",
       "      <td>Norman, a retired police officer, works as a ...</td>\n",
       "      <td>791</td>\n",
       "    </tr>\n",
       "    <tr>\n",
       "      <th>23142</th>\n",
       "      <td>7</td>\n",
       "      <td>All About US is an interesting foray into the...</td>\n",
       "      <td>1256</td>\n",
       "    </tr>\n",
       "    <tr>\n",
       "      <th>18297</th>\n",
       "      <td>18</td>\n",
       "      <td>'Bobby Flay' (qv) invites his Food Network fr...</td>\n",
       "      <td>259</td>\n",
       "    </tr>\n",
       "    <tr>\n",
       "      <th>26981</th>\n",
       "      <td>5</td>\n",
       "      <td>Alex Winters is a post-grad going through a q...</td>\n",
       "      <td>313</td>\n",
       "    </tr>\n",
       "    <tr>\n",
       "      <th>44978</th>\n",
       "      <td>7</td>\n",
       "      <td>Join His Majesty King Abdullah II bin Al-Huss...</td>\n",
       "      <td>419</td>\n",
       "    </tr>\n",
       "    <tr>\n",
       "      <th>31490</th>\n",
       "      <td>8</td>\n",
       "      <td>A high-spirited weekend spirals out of contro...</td>\n",
       "      <td>444</td>\n",
       "    </tr>\n",
       "    <tr>\n",
       "      <th>52003</th>\n",
       "      <td>8</td>\n",
       "      <td>\"In life, we first organize large stones (Pie...</td>\n",
       "      <td>767</td>\n",
       "    </tr>\n",
       "    <tr>\n",
       "      <th>51035</th>\n",
       "      <td>7</td>\n",
       "      <td>Seen through the lens of a fearless community...</td>\n",
       "      <td>248</td>\n",
       "    </tr>\n",
       "  </tbody>\n",
       "</table>\n",
       "</div>"
      ],
      "text/plain": [
       "       Genres                                         Text_input  \\\n",
       "8432        8   This is a love story about a young woman name...   \n",
       "51069       5   Giessen's gymnasium director Gottlieb Taft ho...   \n",
       "42892       8   Norman, a retired police officer, works as a ...   \n",
       "23142       7   All About US is an interesting foray into the...   \n",
       "18297      18   'Bobby Flay' (qv) invites his Food Network fr...   \n",
       "26981       5   Alex Winters is a post-grad going through a q...   \n",
       "44978       7   Join His Majesty King Abdullah II bin Al-Huss...   \n",
       "31490       8   A high-spirited weekend spirals out of contro...   \n",
       "52003       8   \"In life, we first organize large stones (Pie...   \n",
       "51035       7   Seen through the lens of a fearless community...   \n",
       "\n",
       "       Total_Character  \n",
       "8432               819  \n",
       "51069              644  \n",
       "42892              791  \n",
       "23142             1256  \n",
       "18297              259  \n",
       "26981              313  \n",
       "44978              419  \n",
       "31490              444  \n",
       "52003              767  \n",
       "51035              248  "
      ]
     },
     "execution_count": 38,
     "metadata": {},
     "output_type": "execute_result"
    }
   ],
   "source": [
    "DataFrame.sample(10)"
   ]
  },
  {
   "cell_type": "markdown",
   "id": "657619cb-f4fe-464f-8846-bb2876905787",
   "metadata": {},
   "source": [
    "now count the total numbers of words in the input text "
   ]
  },
  {
   "cell_type": "code",
   "execution_count": null,
   "id": "ff5816ef-b3b1-495a-8b5b-7d5ab5a5820b",
   "metadata": {},
   "outputs": [],
   "source": []
  },
  {
   "cell_type": "code",
   "execution_count": 39,
   "id": "0bc99ac9-3395-4a31-bbaa-3429a64051a9",
   "metadata": {},
   "outputs": [],
   "source": [
    "def WordCount(text):\n",
    "    return len(nltk.word_tokenize(text))\n",
    "\n",
    "\n",
    "# edit it in the text file !!! \n",
    "DataFrame['total_words'] = DataFrame['Text_input'].apply(WordCount)"
   ]
  },
  {
   "cell_type": "code",
   "execution_count": 40,
   "id": "3763eddd-dd32-4230-a35b-c955cff7ac90",
   "metadata": {},
   "outputs": [
    {
     "data": {
      "text/html": [
       "<div>\n",
       "<style scoped>\n",
       "    .dataframe tbody tr th:only-of-type {\n",
       "        vertical-align: middle;\n",
       "    }\n",
       "\n",
       "    .dataframe tbody tr th {\n",
       "        vertical-align: top;\n",
       "    }\n",
       "\n",
       "    .dataframe thead th {\n",
       "        text-align: right;\n",
       "    }\n",
       "</style>\n",
       "<table border=\"1\" class=\"dataframe\">\n",
       "  <thead>\n",
       "    <tr style=\"text-align: right;\">\n",
       "      <th></th>\n",
       "      <th>Genres</th>\n",
       "      <th>Text_input</th>\n",
       "      <th>Total_Character</th>\n",
       "      <th>total_words</th>\n",
       "    </tr>\n",
       "  </thead>\n",
       "  <tbody>\n",
       "    <tr>\n",
       "      <th>18720</th>\n",
       "      <td>8</td>\n",
       "      <td>Luz Creveas never gave up. She knew her daugh...</td>\n",
       "      <td>292</td>\n",
       "      <td>61</td>\n",
       "    </tr>\n",
       "    <tr>\n",
       "      <th>11409</th>\n",
       "      <td>7</td>\n",
       "      <td>A behind the scenes look at the preparations ...</td>\n",
       "      <td>242</td>\n",
       "      <td>49</td>\n",
       "    </tr>\n",
       "    <tr>\n",
       "      <th>36057</th>\n",
       "      <td>8</td>\n",
       "      <td>Young and stunningly beautiful Hana is thrown...</td>\n",
       "      <td>591</td>\n",
       "      <td>111</td>\n",
       "    </tr>\n",
       "    <tr>\n",
       "      <th>10842</th>\n",
       "      <td>20</td>\n",
       "      <td>After the events of Legacy of the Void, the d...</td>\n",
       "      <td>379</td>\n",
       "      <td>67</td>\n",
       "    </tr>\n",
       "    <tr>\n",
       "      <th>429</th>\n",
       "      <td>13</td>\n",
       "      <td>Five young American have come for vacation to...</td>\n",
       "      <td>275</td>\n",
       "      <td>53</td>\n",
       "    </tr>\n",
       "    <tr>\n",
       "      <th>28218</th>\n",
       "      <td>8</td>\n",
       "      <td>\"Three hour mini-series tells the intimate hi...</td>\n",
       "      <td>393</td>\n",
       "      <td>64</td>\n",
       "    </tr>\n",
       "    <tr>\n",
       "      <th>37963</th>\n",
       "      <td>8</td>\n",
       "      <td>Hitesh Kakati is a retired teacher who lives ...</td>\n",
       "      <td>904</td>\n",
       "      <td>170</td>\n",
       "    </tr>\n",
       "    <tr>\n",
       "      <th>27771</th>\n",
       "      <td>8</td>\n",
       "      <td>Stephane is a minor aristocrat who has a love...</td>\n",
       "      <td>256</td>\n",
       "      <td>50</td>\n",
       "    </tr>\n",
       "    <tr>\n",
       "      <th>18614</th>\n",
       "      <td>7</td>\n",
       "      <td>Did Shakespeare create King Lear for the purp...</td>\n",
       "      <td>331</td>\n",
       "      <td>58</td>\n",
       "    </tr>\n",
       "    <tr>\n",
       "      <th>44861</th>\n",
       "      <td>7</td>\n",
       "      <td>Bucharest, October 1989: a secondary school s...</td>\n",
       "      <td>1175</td>\n",
       "      <td>218</td>\n",
       "    </tr>\n",
       "  </tbody>\n",
       "</table>\n",
       "</div>"
      ],
      "text/plain": [
       "       Genres                                         Text_input  \\\n",
       "18720       8   Luz Creveas never gave up. She knew her daugh...   \n",
       "11409       7   A behind the scenes look at the preparations ...   \n",
       "36057       8   Young and stunningly beautiful Hana is thrown...   \n",
       "10842      20   After the events of Legacy of the Void, the d...   \n",
       "429        13   Five young American have come for vacation to...   \n",
       "28218       8   \"Three hour mini-series tells the intimate hi...   \n",
       "37963       8   Hitesh Kakati is a retired teacher who lives ...   \n",
       "27771       8   Stephane is a minor aristocrat who has a love...   \n",
       "18614       7   Did Shakespeare create King Lear for the purp...   \n",
       "44861       7   Bucharest, October 1989: a secondary school s...   \n",
       "\n",
       "       Total_Character  total_words  \n",
       "18720              292           61  \n",
       "11409              242           49  \n",
       "36057              591          111  \n",
       "10842              379           67  \n",
       "429                275           53  \n",
       "28218              393           64  \n",
       "37963              904          170  \n",
       "27771              256           50  \n",
       "18614              331           58  \n",
       "44861             1175          218  "
      ]
     },
     "execution_count": 40,
     "metadata": {},
     "output_type": "execute_result"
    }
   ],
   "source": [
    "DataFrame.sample(10)"
   ]
  },
  {
   "cell_type": "code",
   "execution_count": 41,
   "id": "c0514510-6f88-4979-b055-760e9f9a4d60",
   "metadata": {},
   "outputs": [],
   "source": [
    "# now count the total number of sentences !!! \n",
    "def SentenceCount (text):\n",
    "    return len(nltk.sent_tokenize(text))\n",
    "\n",
    "DataFrame['total_sentence']  = DataFrame['Text_input'].apply(SentenceCount)"
   ]
  },
  {
   "cell_type": "code",
   "execution_count": 42,
   "id": "4bb2ea2a-fa30-489f-aaff-94779c6cd3d9",
   "metadata": {},
   "outputs": [
    {
     "data": {
      "text/html": [
       "<div>\n",
       "<style scoped>\n",
       "    .dataframe tbody tr th:only-of-type {\n",
       "        vertical-align: middle;\n",
       "    }\n",
       "\n",
       "    .dataframe tbody tr th {\n",
       "        vertical-align: top;\n",
       "    }\n",
       "\n",
       "    .dataframe thead th {\n",
       "        text-align: right;\n",
       "    }\n",
       "</style>\n",
       "<table border=\"1\" class=\"dataframe\">\n",
       "  <thead>\n",
       "    <tr style=\"text-align: right;\">\n",
       "      <th></th>\n",
       "      <th>Genres</th>\n",
       "      <th>Text_input</th>\n",
       "      <th>Total_Character</th>\n",
       "      <th>total_words</th>\n",
       "      <th>total_sentence</th>\n",
       "    </tr>\n",
       "  </thead>\n",
       "  <tbody>\n",
       "    <tr>\n",
       "      <th>5014</th>\n",
       "      <td>7</td>\n",
       "      <td>When the Israeli government announces that it...</td>\n",
       "      <td>3214</td>\n",
       "      <td>617</td>\n",
       "      <td>19</td>\n",
       "    </tr>\n",
       "    <tr>\n",
       "      <th>45534</th>\n",
       "      <td>24</td>\n",
       "      <td>Julia Alexander, managing a struggling art ga...</td>\n",
       "      <td>1120</td>\n",
       "      <td>215</td>\n",
       "      <td>9</td>\n",
       "    </tr>\n",
       "    <tr>\n",
       "      <th>18921</th>\n",
       "      <td>5</td>\n",
       "      <td>DJ Stan DA Man is a washed up, once was rock ...</td>\n",
       "      <td>303</td>\n",
       "      <td>64</td>\n",
       "      <td>2</td>\n",
       "    </tr>\n",
       "    <tr>\n",
       "      <th>46566</th>\n",
       "      <td>5</td>\n",
       "      <td>Part 1: Humanity's Terrible Past: 50,000 Year...</td>\n",
       "      <td>1712</td>\n",
       "      <td>337</td>\n",
       "      <td>15</td>\n",
       "    </tr>\n",
       "    <tr>\n",
       "      <th>2298</th>\n",
       "      <td>8</td>\n",
       "      <td>Way to hope is one of the many stories during...</td>\n",
       "      <td>2074</td>\n",
       "      <td>424</td>\n",
       "      <td>22</td>\n",
       "    </tr>\n",
       "    <tr>\n",
       "      <th>13064</th>\n",
       "      <td>7</td>\n",
       "      <td>Many consider rice as a simple food that most...</td>\n",
       "      <td>1172</td>\n",
       "      <td>221</td>\n",
       "      <td>6</td>\n",
       "    </tr>\n",
       "    <tr>\n",
       "      <th>30004</th>\n",
       "      <td>17</td>\n",
       "      <td>Welcome home to 42 Geek Street, your guide to...</td>\n",
       "      <td>242</td>\n",
       "      <td>52</td>\n",
       "      <td>2</td>\n",
       "    </tr>\n",
       "    <tr>\n",
       "      <th>46600</th>\n",
       "      <td>21</td>\n",
       "      <td>'Attacked' by a single pram whilst walking to...</td>\n",
       "      <td>385</td>\n",
       "      <td>74</td>\n",
       "      <td>3</td>\n",
       "    </tr>\n",
       "    <tr>\n",
       "      <th>990</th>\n",
       "      <td>3</td>\n",
       "      <td>The series follows the adventures of adorable...</td>\n",
       "      <td>527</td>\n",
       "      <td>93</td>\n",
       "      <td>5</td>\n",
       "    </tr>\n",
       "    <tr>\n",
       "      <th>53619</th>\n",
       "      <td>8</td>\n",
       "      <td>Simon has organised his first Speed Dating ni...</td>\n",
       "      <td>290</td>\n",
       "      <td>56</td>\n",
       "      <td>2</td>\n",
       "    </tr>\n",
       "  </tbody>\n",
       "</table>\n",
       "</div>"
      ],
      "text/plain": [
       "       Genres                                         Text_input  \\\n",
       "5014        7   When the Israeli government announces that it...   \n",
       "45534      24   Julia Alexander, managing a struggling art ga...   \n",
       "18921       5   DJ Stan DA Man is a washed up, once was rock ...   \n",
       "46566       5   Part 1: Humanity's Terrible Past: 50,000 Year...   \n",
       "2298        8   Way to hope is one of the many stories during...   \n",
       "13064       7   Many consider rice as a simple food that most...   \n",
       "30004      17   Welcome home to 42 Geek Street, your guide to...   \n",
       "46600      21   'Attacked' by a single pram whilst walking to...   \n",
       "990         3   The series follows the adventures of adorable...   \n",
       "53619       8   Simon has organised his first Speed Dating ni...   \n",
       "\n",
       "       Total_Character  total_words  total_sentence  \n",
       "5014              3214          617              19  \n",
       "45534             1120          215               9  \n",
       "18921              303           64               2  \n",
       "46566             1712          337              15  \n",
       "2298              2074          424              22  \n",
       "13064             1172          221               6  \n",
       "30004              242           52               2  \n",
       "46600              385           74               3  \n",
       "990                527           93               5  \n",
       "53619              290           56               2  "
      ]
     },
     "execution_count": 42,
     "metadata": {},
     "output_type": "execute_result"
    }
   ],
   "source": [
    "DataFrame.sample(10)"
   ]
  },
  {
   "cell_type": "markdown",
   "id": "d68b11c2-56fb-4edb-a287-23ac5056d354",
   "metadata": {},
   "source": [
    "now we need the explanation for all the column like mean mode average and much more !! "
   ]
  },
  {
   "cell_type": "code",
   "execution_count": 43,
   "id": "62f36220-eff2-4262-828c-aac395ad0ae4",
   "metadata": {},
   "outputs": [
    {
     "name": "stdout",
     "output_type": "stream",
     "text": [
      "0  action \n",
      "1  adult \n",
      "2  adventure \n",
      "3  animation \n",
      "4  biography \n",
      "5  comedy \n",
      "6  crime \n",
      "7  documentary \n",
      "8  drama \n",
      "9  family \n",
      "10  fantasy \n",
      "11  game-show \n",
      "12  history \n",
      "13  horror \n",
      "14  music \n",
      "15  musical \n",
      "16  mystery \n",
      "17  news \n",
      "18  reality-tv \n",
      "19  romance \n",
      "20  sci-fi \n",
      "21  short \n",
      "22  sport \n",
      "23  talk-show \n",
      "24  thriller \n",
      "25  war \n",
      "26  western \n"
     ]
    }
   ],
   "source": [
    "for i in range(len(encoder.classes_)):\n",
    "    print (i,encoder.classes_[i])"
   ]
  },
  {
   "cell_type": "code",
   "execution_count": 44,
   "id": "6fade01c-3e65-49fe-9242-9140c7489b5c",
   "metadata": {},
   "outputs": [],
   "source": [
    "# for i in range (27):\n",
    "#     apple =DataFrame[DataFrame['Genres']==i][['Total_Character','total_words','total_sentence']].describe()\n",
    "#     print(i , apple)\n",
    "#     print ('\\n')\n"
   ]
  },
  {
   "cell_type": "markdown",
   "id": "35f57e21-455d-41e0-8486-ffaf5c53acbf",
   "metadata": {},
   "source": [
    "now print the relation between them !! "
   ]
  },
  {
   "cell_type": "code",
   "execution_count": 45,
   "id": "cf371b4e-aceb-4206-841f-4886dd1d7135",
   "metadata": {},
   "outputs": [],
   "source": [
    "# import seaborn as sns \n",
    "# import matplotlib.pyplot as plt \n",
    "\n",
    "# # create a unique number for the printing \n",
    "# unique_genres = sorted(DataFrame['Genres'].unique())\n",
    "\n",
    "# # now printing the graph for the \n",
    "# for unique_code in unique_genres :\n",
    "#     plt.figure(figsize=(8,4))\n",
    "#     sns.histplot(DataFrame[DataFrame['Genres']==unique_code]['Total_Character'], color='red')\n",
    "#     plt.title(f\"Total Characters for Genre {unique_code}\")\n",
    "#     plt.xlabel(\"Total Characters\")\n",
    "#     plt.ylabel(\"Frequency\")\n",
    "#     plt.show()"
   ]
  },
  {
   "cell_type": "code",
   "execution_count": 46,
   "id": "f48d37ca-4801-4f5d-83f7-83b968bc42d5",
   "metadata": {},
   "outputs": [],
   "source": [
    "# for unique_code in unique_genres :\n",
    "#     plt.figure(figsize=(8,4))\n",
    "#     sns.histplot(DataFrame[DataFrame['Genres']==unique_code]['total_words'], color='blue')\n",
    "#     plt.title(f\"Total words for Genre {unique_code}\")\n",
    "#     plt.xlabel(\"Total Characters\")\n",
    "#     plt.ylabel(\"Frequency\")\n",
    "#     plt.show()"
   ]
  },
  {
   "cell_type": "code",
   "execution_count": 47,
   "id": "9982ede5-81ef-4e68-bb80-71243b890a51",
   "metadata": {},
   "outputs": [],
   "source": [
    "# for unique_code in unique_genres :\n",
    "#     plt.figure(figsize=(8,4))\n",
    "#     sns.histplot(DataFrame[DataFrame['Genres']==unique_code]['total_sentence'], color='green')\n",
    "#     plt.title(f\"Total sentence for Genre {unique_code}\")\n",
    "#     plt.xlabel(\"Total Characters\")\n",
    "#     plt.ylabel(\"Frequency\")\n",
    "#     plt.show()"
   ]
  },
  {
   "cell_type": "code",
   "execution_count": 48,
   "id": "959553f0-e07e-4ba1-af72-4f0cb22c2625",
   "metadata": {},
   "outputs": [
    {
     "data": {
      "text/plain": [
       "(54105, 5)"
      ]
     },
     "execution_count": 48,
     "metadata": {},
     "output_type": "execute_result"
    }
   ],
   "source": [
    "DataFrame.shape"
   ]
  },
  {
   "cell_type": "code",
   "execution_count": 49,
   "id": "9ee0d731-9648-4598-a45d-56d5039dd14e",
   "metadata": {},
   "outputs": [
    {
     "data": {
      "text/html": [
       "<div>\n",
       "<style scoped>\n",
       "    .dataframe tbody tr th:only-of-type {\n",
       "        vertical-align: middle;\n",
       "    }\n",
       "\n",
       "    .dataframe tbody tr th {\n",
       "        vertical-align: top;\n",
       "    }\n",
       "\n",
       "    .dataframe thead th {\n",
       "        text-align: right;\n",
       "    }\n",
       "</style>\n",
       "<table border=\"1\" class=\"dataframe\">\n",
       "  <thead>\n",
       "    <tr style=\"text-align: right;\">\n",
       "      <th></th>\n",
       "      <th>Genres</th>\n",
       "      <th>Text_input</th>\n",
       "      <th>Total_Character</th>\n",
       "      <th>total_words</th>\n",
       "      <th>total_sentence</th>\n",
       "    </tr>\n",
       "  </thead>\n",
       "  <tbody>\n",
       "    <tr>\n",
       "      <th>19354</th>\n",
       "      <td>7</td>\n",
       "      <td>Passionately filmed for two years with no bud...</td>\n",
       "      <td>2032</td>\n",
       "      <td>389</td>\n",
       "      <td>12</td>\n",
       "    </tr>\n",
       "    <tr>\n",
       "      <th>49984</th>\n",
       "      <td>7</td>\n",
       "      <td>The heroic and passionate life of Marianne Go...</td>\n",
       "      <td>812</td>\n",
       "      <td>156</td>\n",
       "      <td>7</td>\n",
       "    </tr>\n",
       "    <tr>\n",
       "      <th>41335</th>\n",
       "      <td>8</td>\n",
       "      <td>Spencer Morgan just graduated college in Colo...</td>\n",
       "      <td>610</td>\n",
       "      <td>126</td>\n",
       "      <td>8</td>\n",
       "    </tr>\n",
       "    <tr>\n",
       "      <th>50797</th>\n",
       "      <td>21</td>\n",
       "      <td>Divided into four brief pieces. These include...</td>\n",
       "      <td>246</td>\n",
       "      <td>60</td>\n",
       "      <td>3</td>\n",
       "    </tr>\n",
       "    <tr>\n",
       "      <th>28662</th>\n",
       "      <td>7</td>\n",
       "      <td>In a town in Texas called Williamson County a...</td>\n",
       "      <td>949</td>\n",
       "      <td>162</td>\n",
       "      <td>6</td>\n",
       "    </tr>\n",
       "    <tr>\n",
       "      <th>49621</th>\n",
       "      <td>8</td>\n",
       "      <td>An omnibus of three short stories revolving a...</td>\n",
       "      <td>585</td>\n",
       "      <td>109</td>\n",
       "      <td>4</td>\n",
       "    </tr>\n",
       "    <tr>\n",
       "      <th>1336</th>\n",
       "      <td>21</td>\n",
       "      <td>Forgotten Tragedy: The Story of the St. Franc...</td>\n",
       "      <td>566</td>\n",
       "      <td>107</td>\n",
       "      <td>5</td>\n",
       "    </tr>\n",
       "    <tr>\n",
       "      <th>26398</th>\n",
       "      <td>7</td>\n",
       "      <td>For over 15 years, Def Jam has churned out st...</td>\n",
       "      <td>425</td>\n",
       "      <td>93</td>\n",
       "      <td>3</td>\n",
       "    </tr>\n",
       "    <tr>\n",
       "      <th>25122</th>\n",
       "      <td>5</td>\n",
       "      <td>From the author of 'All Men Love Food, So Be ...</td>\n",
       "      <td>545</td>\n",
       "      <td>110</td>\n",
       "      <td>6</td>\n",
       "    </tr>\n",
       "    <tr>\n",
       "      <th>32864</th>\n",
       "      <td>8</td>\n",
       "      <td>A gentle and usually mellow young man, who so...</td>\n",
       "      <td>667</td>\n",
       "      <td>136</td>\n",
       "      <td>2</td>\n",
       "    </tr>\n",
       "  </tbody>\n",
       "</table>\n",
       "</div>"
      ],
      "text/plain": [
       "       Genres                                         Text_input  \\\n",
       "19354       7   Passionately filmed for two years with no bud...   \n",
       "49984       7   The heroic and passionate life of Marianne Go...   \n",
       "41335       8   Spencer Morgan just graduated college in Colo...   \n",
       "50797      21   Divided into four brief pieces. These include...   \n",
       "28662       7   In a town in Texas called Williamson County a...   \n",
       "49621       8   An omnibus of three short stories revolving a...   \n",
       "1336       21   Forgotten Tragedy: The Story of the St. Franc...   \n",
       "26398       7   For over 15 years, Def Jam has churned out st...   \n",
       "25122       5   From the author of 'All Men Love Food, So Be ...   \n",
       "32864       8   A gentle and usually mellow young man, who so...   \n",
       "\n",
       "       Total_Character  total_words  total_sentence  \n",
       "19354             2032          389              12  \n",
       "49984              812          156               7  \n",
       "41335              610          126               8  \n",
       "50797              246           60               3  \n",
       "28662              949          162               6  \n",
       "49621              585          109               4  \n",
       "1336               566          107               5  \n",
       "26398              425           93               3  \n",
       "25122              545          110               6  \n",
       "32864              667          136               2  "
      ]
     },
     "execution_count": 49,
     "metadata": {},
     "output_type": "execute_result"
    }
   ],
   "source": [
    "DataFrame.sample(10)"
   ]
  },
  {
   "cell_type": "code",
   "execution_count": 50,
   "id": "66e7a35f-90f0-46ed-9701-2364230241a4",
   "metadata": {},
   "outputs": [],
   "source": [
    "# sns.pairplot(DataFrame,hue='Genres')"
   ]
  },
  {
   "cell_type": "markdown",
   "id": "40eb1175-b972-430e-b8e4-bdefb8386fbd",
   "metadata": {},
   "source": [
    "# NOW WE ARE MOVING WITH THE DATA PROCESSING !! "
   ]
  },
  {
   "cell_type": "code",
   "execution_count": 51,
   "id": "3236237e-33dd-4bc2-b566-54fd9e5fdd35",
   "metadata": {},
   "outputs": [],
   "source": [
    "import nltk \n",
    "from nltk.corpus import stopwords\n",
    "\n",
    "# nltk.download('stopwords')\n",
    "from nltk.stem import PorterStemmer\n",
    "ps = PorterStemmer()\n",
    "import string\n"
   ]
  },
  {
   "cell_type": "code",
   "execution_count": 52,
   "id": "d21a973e-5961-4a77-8431-474adb660910",
   "metadata": {},
   "outputs": [],
   "source": [
    "# # making the function whcih do the folllowing things that is !! \n",
    "\n",
    "# # making the function which do the following things !! a ) to do the lower case \n",
    "# # b) Tokenization (spiliting the sentence into the words using the    nltk.word_tokenize(argument))\n",
    "# # c ) removing the special character using the     [ argument.isalnum() ] \n",
    "# # d ) converting the words into the root form !! using the \n",
    "  \n",
    "\n",
    "\n",
    "# #  from nltk.stem import PorterStemmer  ps = PorterStemmer()-->  ps.stem(argument)\n",
    "# #  this is used to make into the root words !! \n",
    "# #  ps = PorterStemmer()\n",
    "\n",
    "\n",
    "# # e ) remove the puncutations brother and also the stopwords  !! \n",
    "\n",
    "# # e ) removing the puncutation and the stop words !! using the string.punctuation and the stopwords.words('english')\n",
    "\n",
    "\n",
    "\n",
    "\n",
    "\n",
    "\n",
    "def text_transformer(text):\n",
    "\n",
    "     # a ) lower case conversion !! \n",
    "    \n",
    "    text  = text.lower()\n",
    "\n",
    "\n",
    "\n",
    "\n",
    "    \n",
    "    #  b ) converting the sentence into the list of words \n",
    "    text = nltk.word_tokenize(text)  #   (eg Aman deep loves oranges )  output :--> ['aman', 'deep', 'loves', 'oranges'] \n",
    "\n",
    "\n",
    "    #    c ) now removing the special character using the .isalnum() and \n",
    "\n",
    "    #store in the list after that you have to pass the list into the text \n",
    "\n",
    "\n",
    "#    I/p :== \"Aman deep!!!@  !!!a@@ loves oranges\"   \n",
    "    l = []\n",
    "    for i in text :\n",
    "        if (i.isalnum()):\n",
    "            l.append(i)\n",
    "\n",
    "    text = l[:]\n",
    "   \n",
    "\n",
    "    # O/p :== ['aman', 'deep', 'a', 'loves', 'oranges']\n",
    "\n",
    "    l.clear()\n",
    "    \n",
    "# d ) convert the following  words in  its root form !! \n",
    "    for i in text:\n",
    "        l.append(ps.stem(i))\n",
    "\n",
    "\n",
    "    text = l[:] \n",
    "\n",
    " \n",
    "    l.clear()\n",
    "\n",
    "    # now the output is ['aman', 'deep', 'a', 'love', 'orang']\n",
    "\n",
    "\n",
    "# e ) removing the puncutation and the stop words !! using the[[   string.punctuation and the stopwords.words('english')   ]] \n",
    "\n",
    "    for i in text:\n",
    "        if i not in string.punctuation and i not in stopwords.words('english'):\n",
    "            l.append(i)\n",
    "\n",
    "\n",
    "    text = l[:]\n",
    "     # now the output will be [  ['aman', 'deep', 'love', 'orang'] ]\n",
    "    \n",
    "#    now remove the list and turn into the normal text yarrr !! using the   \" \".join(argument)\n",
    "\n",
    "    return \" \".join(text)\n",
    "    # o/p will be :==   aman deep love orang\n",
    "\n",
    "\n",
    "\n",
    "\n",
    "import nltk\n",
    "from nltk.corpus import stopwords\n",
    "from nltk.stem import PorterStemmer\n",
    "import string\n",
    "\n",
    "# Initialize stemmer and stopwords once globally\n",
    "ps = PorterStemmer()\n",
    "stop_words = set(stopwords.words('english'))\n",
    "punctuations = set(string.punctuation)\n",
    "\n",
    "def text_transformer(text):\n",
    "    \"\"\"\n",
    "    Transforms input text by:\n",
    "    a) Converting to lowercase\n",
    "    b) Tokenizing\n",
    "    c) Removing special characters\n",
    "    d) Converting words to root form (stemming)\n",
    "    e) Removing punctuation and stopwords\n",
    "    Returns cleaned text as a single string.\n",
    "    \"\"\"\n",
    "\n",
    "    # a) Lowercase conversion\n",
    "    text = text.lower()\n",
    "\n",
    "    # b) Tokenization\n",
    "    words = nltk.word_tokenize(text)\n",
    "\n",
    "    # c+d+e) Clean, stem, and remove stopwords & punctuation in a single loop\n",
    "    cleaned_words = []\n",
    "    for word in words:\n",
    "        if word.isalnum():  # Remove special characters\n",
    "            stemmed = ps.stem(word)  # Convert to root form\n",
    "            if stemmed not in stop_words and stemmed not in punctuations:  # Remove stopwords & punctuations\n",
    "                cleaned_words.append(stemmed)\n",
    "\n",
    "    # Return final cleaned text as string\n",
    "    return \" \".join(cleaned_words)\n"
   ]
  },
  {
   "cell_type": "markdown",
   "id": "5a135c19-1ddf-4a05-a0bd-dc3da14b15a1",
   "metadata": {},
   "source": [
    "now i have tooo add the new column to our data for the clarification !! "
   ]
  },
  {
   "cell_type": "code",
   "execution_count": 53,
   "id": "73aa9785-42b2-4438-a6d6-b90938d13486",
   "metadata": {},
   "outputs": [
    {
     "name": "stderr",
     "output_type": "stream",
     "text": [
      "100%|█\n"
     ]
    }
   ],
   "source": [
    "\n",
    "from tqdm import tqdm\n",
    "\n",
    "tqdm.pandas()\n",
    "DataFrame['modified_data'] = DataFrame['Text_input'].progress_apply(text_transformer)\n"
   ]
  },
  {
   "cell_type": "code",
   "execution_count": 54,
   "id": "c0f7893d-ef4c-4178-866f-f06c0dcf98ea",
   "metadata": {},
   "outputs": [
    {
     "data": {
      "text/html": [
       "<div>\n",
       "<style scoped>\n",
       "    .dataframe tbody tr th:only-of-type {\n",
       "        vertical-align: middle;\n",
       "    }\n",
       "\n",
       "    .dataframe tbody tr th {\n",
       "        vertical-align: top;\n",
       "    }\n",
       "\n",
       "    .dataframe thead th {\n",
       "        text-align: right;\n",
       "    }\n",
       "</style>\n",
       "<table border=\"1\" class=\"dataframe\">\n",
       "  <thead>\n",
       "    <tr style=\"text-align: right;\">\n",
       "      <th></th>\n",
       "      <th>Genres</th>\n",
       "      <th>Text_input</th>\n",
       "      <th>Total_Character</th>\n",
       "      <th>total_words</th>\n",
       "      <th>total_sentence</th>\n",
       "      <th>modified_data</th>\n",
       "    </tr>\n",
       "  </thead>\n",
       "  <tbody>\n",
       "    <tr>\n",
       "      <th>18793</th>\n",
       "      <td>8</td>\n",
       "      <td>A wealthy socialite is accused of killing her...</td>\n",
       "      <td>321</td>\n",
       "      <td>60</td>\n",
       "      <td>3</td>\n",
       "      <td>wealthi socialit accus kill husband claim batt...</td>\n",
       "    </tr>\n",
       "    <tr>\n",
       "      <th>52782</th>\n",
       "      <td>7</td>\n",
       "      <td>Journey to the last great wilderness of North...</td>\n",
       "      <td>428</td>\n",
       "      <td>78</td>\n",
       "      <td>4</td>\n",
       "      <td>journey last great wilder north america polar ...</td>\n",
       "    </tr>\n",
       "    <tr>\n",
       "      <th>24241</th>\n",
       "      <td>13</td>\n",
       "      <td>On a cold winter night in the Greenfield neig...</td>\n",
       "      <td>254</td>\n",
       "      <td>53</td>\n",
       "      <td>3</td>\n",
       "      <td>cold winter night greenfield neighborhood pitt...</td>\n",
       "    </tr>\n",
       "    <tr>\n",
       "      <th>50343</th>\n",
       "      <td>5</td>\n",
       "      <td>The clumsy Ramira is hired by Laura to work a...</td>\n",
       "      <td>371</td>\n",
       "      <td>75</td>\n",
       "      <td>4</td>\n",
       "      <td>clumsi ramira hire laura work housemaid nanni ...</td>\n",
       "    </tr>\n",
       "    <tr>\n",
       "      <th>31853</th>\n",
       "      <td>5</td>\n",
       "      <td>Who has never been ashamed of Mom's new haird...</td>\n",
       "      <td>371</td>\n",
       "      <td>81</td>\n",
       "      <td>4</td>\n",
       "      <td>ha never asham mom new hairdo dad bad joke vel...</td>\n",
       "    </tr>\n",
       "    <tr>\n",
       "      <th>49383</th>\n",
       "      <td>21</td>\n",
       "      <td>Bernard Brady is a lonely computer programmer...</td>\n",
       "      <td>365</td>\n",
       "      <td>67</td>\n",
       "      <td>3</td>\n",
       "      <td>bernard bradi lone comput programm microcorp s...</td>\n",
       "    </tr>\n",
       "    <tr>\n",
       "      <th>31357</th>\n",
       "      <td>5</td>\n",
       "      <td>The film chronicles the adventures of an Amer...</td>\n",
       "      <td>357</td>\n",
       "      <td>71</td>\n",
       "      <td>2</td>\n",
       "      <td>film chronicl adventur american west hi faith ...</td>\n",
       "    </tr>\n",
       "    <tr>\n",
       "      <th>8879</th>\n",
       "      <td>3</td>\n",
       "      <td>This series tells the story of Population Cit...</td>\n",
       "      <td>243</td>\n",
       "      <td>48</td>\n",
       "      <td>3</td>\n",
       "      <td>thi seri tell stori popul citi lousiest superh...</td>\n",
       "    </tr>\n",
       "    <tr>\n",
       "      <th>23593</th>\n",
       "      <td>21</td>\n",
       "      <td>Watching Closely' is a comedic drama about an...</td>\n",
       "      <td>608</td>\n",
       "      <td>112</td>\n",
       "      <td>5</td>\n",
       "      <td>watch close comed drama american singl parent ...</td>\n",
       "    </tr>\n",
       "    <tr>\n",
       "      <th>33242</th>\n",
       "      <td>7</td>\n",
       "      <td>Aileen is a 16 year old drug addict and prost...</td>\n",
       "      <td>294</td>\n",
       "      <td>59</td>\n",
       "      <td>4</td>\n",
       "      <td>aileen 16 year old drug addict prostitut like ...</td>\n",
       "    </tr>\n",
       "  </tbody>\n",
       "</table>\n",
       "</div>"
      ],
      "text/plain": [
       "       Genres                                         Text_input  \\\n",
       "18793       8   A wealthy socialite is accused of killing her...   \n",
       "52782       7   Journey to the last great wilderness of North...   \n",
       "24241      13   On a cold winter night in the Greenfield neig...   \n",
       "50343       5   The clumsy Ramira is hired by Laura to work a...   \n",
       "31853       5   Who has never been ashamed of Mom's new haird...   \n",
       "49383      21   Bernard Brady is a lonely computer programmer...   \n",
       "31357       5   The film chronicles the adventures of an Amer...   \n",
       "8879        3   This series tells the story of Population Cit...   \n",
       "23593      21   Watching Closely' is a comedic drama about an...   \n",
       "33242       7   Aileen is a 16 year old drug addict and prost...   \n",
       "\n",
       "       Total_Character  total_words  total_sentence  \\\n",
       "18793              321           60               3   \n",
       "52782              428           78               4   \n",
       "24241              254           53               3   \n",
       "50343              371           75               4   \n",
       "31853              371           81               4   \n",
       "49383              365           67               3   \n",
       "31357              357           71               2   \n",
       "8879               243           48               3   \n",
       "23593              608          112               5   \n",
       "33242              294           59               4   \n",
       "\n",
       "                                           modified_data  \n",
       "18793  wealthi socialit accus kill husband claim batt...  \n",
       "52782  journey last great wilder north america polar ...  \n",
       "24241  cold winter night greenfield neighborhood pitt...  \n",
       "50343  clumsi ramira hire laura work housemaid nanni ...  \n",
       "31853  ha never asham mom new hairdo dad bad joke vel...  \n",
       "49383  bernard bradi lone comput programm microcorp s...  \n",
       "31357  film chronicl adventur american west hi faith ...  \n",
       "8879   thi seri tell stori popul citi lousiest superh...  \n",
       "23593  watch close comed drama american singl parent ...  \n",
       "33242  aileen 16 year old drug addict prostitut like ...  "
      ]
     },
     "execution_count": 54,
     "metadata": {},
     "output_type": "execute_result"
    }
   ],
   "source": [
    "DataFrame.sample(10)"
   ]
  },
  {
   "cell_type": "code",
   "execution_count": 55,
   "id": "47007271-97f0-4e52-9853-8cbbde86d450",
   "metadata": {},
   "outputs": [
    {
     "data": {
      "text/html": [
       "<div>\n",
       "<style scoped>\n",
       "    .dataframe tbody tr th:only-of-type {\n",
       "        vertical-align: middle;\n",
       "    }\n",
       "\n",
       "    .dataframe tbody tr th {\n",
       "        vertical-align: top;\n",
       "    }\n",
       "\n",
       "    .dataframe thead th {\n",
       "        text-align: right;\n",
       "    }\n",
       "</style>\n",
       "<table border=\"1\" class=\"dataframe\">\n",
       "  <thead>\n",
       "    <tr style=\"text-align: right;\">\n",
       "      <th></th>\n",
       "      <th>Genres</th>\n",
       "      <th>Text_input</th>\n",
       "      <th>Total_Character</th>\n",
       "      <th>total_words</th>\n",
       "      <th>total_sentence</th>\n",
       "      <th>modified_data</th>\n",
       "    </tr>\n",
       "  </thead>\n",
       "  <tbody>\n",
       "    <tr>\n",
       "      <th>42645</th>\n",
       "      <td>13</td>\n",
       "      <td>The series takes place in Delta, which is a s...</td>\n",
       "      <td>537</td>\n",
       "      <td>105</td>\n",
       "      <td>5</td>\n",
       "      <td>seri take place delta small town colorado stor...</td>\n",
       "    </tr>\n",
       "    <tr>\n",
       "      <th>28929</th>\n",
       "      <td>21</td>\n",
       "      <td>A stable is on fire, and several horses are t...</td>\n",
       "      <td>269</td>\n",
       "      <td>54</td>\n",
       "      <td>3</td>\n",
       "      <td>stabl fire sever hors trap insid firefight sta...</td>\n",
       "    </tr>\n",
       "    <tr>\n",
       "      <th>18011</th>\n",
       "      <td>24</td>\n",
       "      <td>Howard Baine had the potential to do anything...</td>\n",
       "      <td>454</td>\n",
       "      <td>91</td>\n",
       "      <td>4</td>\n",
       "      <td>howard bain potenti anyth hi life chose becom ...</td>\n",
       "    </tr>\n",
       "    <tr>\n",
       "      <th>35685</th>\n",
       "      <td>5</td>\n",
       "      <td>A young lawyer is coming unhinged from the gu...</td>\n",
       "      <td>251</td>\n",
       "      <td>53</td>\n",
       "      <td>2</td>\n",
       "      <td>young lawyer come unhing guilt repres maker ch...</td>\n",
       "    </tr>\n",
       "    <tr>\n",
       "      <th>15291</th>\n",
       "      <td>21</td>\n",
       "      <td>Everybody collects something. Raymond \"Bones\"...</td>\n",
       "      <td>641</td>\n",
       "      <td>116</td>\n",
       "      <td>6</td>\n",
       "      <td>everybodi collect someth raymond bone bandar c...</td>\n",
       "    </tr>\n",
       "    <tr>\n",
       "      <th>40208</th>\n",
       "      <td>13</td>\n",
       "      <td>Her fears and inability to cope with the hars...</td>\n",
       "      <td>266</td>\n",
       "      <td>47</td>\n",
       "      <td>1</td>\n",
       "      <td>fear inabl cope harsh realiti life becom inten...</td>\n",
       "    </tr>\n",
       "    <tr>\n",
       "      <th>15805</th>\n",
       "      <td>18</td>\n",
       "      <td>Follows a family of master appraisers; Kate, ...</td>\n",
       "      <td>623</td>\n",
       "      <td>114</td>\n",
       "      <td>4</td>\n",
       "      <td>follow famili master apprais kate daughter jud...</td>\n",
       "    </tr>\n",
       "    <tr>\n",
       "      <th>52895</th>\n",
       "      <td>7</td>\n",
       "      <td>Life with the Dicebag is an in-depth document...</td>\n",
       "      <td>580</td>\n",
       "      <td>107</td>\n",
       "      <td>3</td>\n",
       "      <td>life dicebag documentari game peopl play filmm...</td>\n",
       "    </tr>\n",
       "    <tr>\n",
       "      <th>11925</th>\n",
       "      <td>8</td>\n",
       "      <td>April 1974 saw the fall of a long lasting dic...</td>\n",
       "      <td>645</td>\n",
       "      <td>121</td>\n",
       "      <td>7</td>\n",
       "      <td>april 1974 saw fall long last dictatorship you...</td>\n",
       "    </tr>\n",
       "    <tr>\n",
       "      <th>6952</th>\n",
       "      <td>7</td>\n",
       "      <td>This documentary focuses on nine artists, liv...</td>\n",
       "      <td>364</td>\n",
       "      <td>68</td>\n",
       "      <td>3</td>\n",
       "      <td>thi documentari focus nine artist live work fi...</td>\n",
       "    </tr>\n",
       "  </tbody>\n",
       "</table>\n",
       "</div>"
      ],
      "text/plain": [
       "       Genres                                         Text_input  \\\n",
       "42645      13   The series takes place in Delta, which is a s...   \n",
       "28929      21   A stable is on fire, and several horses are t...   \n",
       "18011      24   Howard Baine had the potential to do anything...   \n",
       "35685       5   A young lawyer is coming unhinged from the gu...   \n",
       "15291      21   Everybody collects something. Raymond \"Bones\"...   \n",
       "40208      13   Her fears and inability to cope with the hars...   \n",
       "15805      18   Follows a family of master appraisers; Kate, ...   \n",
       "52895       7   Life with the Dicebag is an in-depth document...   \n",
       "11925       8   April 1974 saw the fall of a long lasting dic...   \n",
       "6952        7   This documentary focuses on nine artists, liv...   \n",
       "\n",
       "       Total_Character  total_words  total_sentence  \\\n",
       "42645              537          105               5   \n",
       "28929              269           54               3   \n",
       "18011              454           91               4   \n",
       "35685              251           53               2   \n",
       "15291              641          116               6   \n",
       "40208              266           47               1   \n",
       "15805              623          114               4   \n",
       "52895              580          107               3   \n",
       "11925              645          121               7   \n",
       "6952               364           68               3   \n",
       "\n",
       "                                           modified_data  \n",
       "42645  seri take place delta small town colorado stor...  \n",
       "28929  stabl fire sever hors trap insid firefight sta...  \n",
       "18011  howard bain potenti anyth hi life chose becom ...  \n",
       "35685  young lawyer come unhing guilt repres maker ch...  \n",
       "15291  everybodi collect someth raymond bone bandar c...  \n",
       "40208  fear inabl cope harsh realiti life becom inten...  \n",
       "15805  follow famili master apprais kate daughter jud...  \n",
       "52895  life dicebag documentari game peopl play filmm...  \n",
       "11925  april 1974 saw fall long last dictatorship you...  \n",
       "6952   thi documentari focus nine artist live work fi...  "
      ]
     },
     "execution_count": 55,
     "metadata": {},
     "output_type": "execute_result"
    }
   ],
   "source": [
    "DataFrame.sample(10)"
   ]
  },
  {
   "cell_type": "code",
   "execution_count": 56,
   "id": "8b0108ab-ed66-4966-a79d-d600ae714693",
   "metadata": {},
   "outputs": [
    {
     "name": "stdout",
     "output_type": "stream",
     "text": [
      "0  action \n",
      "1  adult \n",
      "2  adventure \n",
      "3  animation \n",
      "4  biography \n",
      "5  comedy \n",
      "6  crime \n",
      "7  documentary \n",
      "8  drama \n",
      "9  family \n",
      "10  fantasy \n",
      "11  game-show \n",
      "12  history \n",
      "13  horror \n",
      "14  music \n",
      "15  musical \n",
      "16  mystery \n",
      "17  news \n",
      "18  reality-tv \n",
      "19  romance \n",
      "20  sci-fi \n",
      "21  short \n",
      "22  sport \n",
      "23  talk-show \n",
      "24  thriller \n",
      "25  war \n",
      "26  western \n"
     ]
    }
   ],
   "source": [
    "for i in range(len(encoder.classes_)):\n",
    "    print (i,encoder.classes_[i])"
   ]
  },
  {
   "cell_type": "markdown",
   "id": "5d5aff59-43fb-4733-a0b7-f251ed1ba52f",
   "metadata": {},
   "source": [
    "most repeted words in the Genres 0 that is action !! "
   ]
  },
  {
   "cell_type": "code",
   "execution_count": 57,
   "id": "fea01a6a-e139-44f1-90d1-96a034f2c60a",
   "metadata": {},
   "outputs": [],
   "source": [
    "# for counting the most common words we are using the library of   from collections import Counter and using the function most_common(number of common words you want)\n",
    "from collections import Counter\n",
    "import seaborn as sns\n",
    "import matplotlib.pyplot as plt\n",
    "\n",
    "total_number_of_words = []\n",
    "\n",
    "def lengthfinder_and_plotter():\n",
    "    for k in range(27):\n",
    "        total_number_of_words.clear()\n",
    "        \n",
    "     \n",
    "        genre_texts = DataFrame[DataFrame['Genres'] == k]['modified_data'].tolist()\n",
    "        \n",
    "        # Split  each text into  words and  append to   total_number_of_words\n",
    "        for text in genre_texts:\n",
    "            for word in text.split():\n",
    "                total_number_of_words.append(word)\n",
    "        \n",
    "        # printing the total number of words in each genres \n",
    "        \n",
    "        print(f\"Genre {k}: Total words = {len(total_number_of_words)}\")\n",
    "\n",
    "\n",
    "\n",
    "\n",
    "\n",
    "        \n",
    "        # for counting the most common words we are using the library of   from collections import Counter and using the function most_common(number of common words you want)\n",
    "\n",
    "        # # the most common return the data in the form of !!   {'apple': 3, 'banana': 2, 'orange': 1}\n",
    "        if total_number_of_words:\n",
    "            counter_df = pd.DataFrame(Counter(total_number_of_words).most_common(30))\n",
    "            \n",
    "            plt.figure(figsize=(10,5))\n",
    "            sns.barplot(x=counter_df[0], y=counter_df[1], color='red')\n",
    "            plt.xticks(rotation='vertical')\n",
    "            plt.title(f\" 30 Common Words from Genre {k}\")\n",
    "            plt.xlabel(\"Words\")\n",
    "            plt.ylabel(\"Frequency\")\n",
    "            \n",
    "            plt.show()\n",
    "\n",
    "#lengthfinder_and_plotter()\n"
   ]
  },
  {
   "cell_type": "markdown",
   "id": "6274e716-0d64-41af-9910-f00468dc5432",
   "metadata": {},
   "source": [
    "making the function  for ploting the graph of  most common words  !! "
   ]
  },
  {
   "cell_type": "markdown",
   "id": "a071035a-2389-4c7b-ab6c-e4bf2afeca63",
   "metadata": {},
   "source": []
  },
  {
   "cell_type": "raw",
   "id": "4c1f4147-b7da-467a-82db-4f33a34553c3",
   "metadata": {},
   "source": [
    "# Model Building "
   ]
  },
  {
   "cell_type": "code",
   "execution_count": 58,
   "id": "c72c06ca-7906-4c6d-8861-8d0a38e7ab68",
   "metadata": {},
   "outputs": [
    {
     "name": "stdout",
     "output_type": "stream",
     "text": [
      "Hello Sir welcome back yarr !! \n"
     ]
    }
   ],
   "source": [
    "print(\"Hello Sir welcome back yarr !! \")"
   ]
  },
  {
   "cell_type": "markdown",
   "id": "2a06731d-5ae2-4723-8564-636b5c241239",
   "metadata": {},
   "source": [
    "# Method 01 \n",
    "(i am using the TFIDF  for the vectoriztion but in this case it is useless and give me only 50 to 60 )\n",
    "again stiking to this last one did not perform well !! "
   ]
  },
  {
   "cell_type": "code",
   "execution_count": null,
   "id": "4ffa5c18-db28-4468-92e6-a1e435624d58",
   "metadata": {},
   "outputs": [],
   "source": [
    "from sklearn.feature_extraction.text import TfidfVectorizer\n",
    "    "
   ]
  },
  {
   "cell_type": "code",
   "execution_count": 60,
   "id": "fb700e6d-7845-4211-ac98-d9a6dfc51be6",
   "metadata": {},
   "outputs": [],
   "source": [
    "tfidf_vect = TfidfVectorizer(ngram_range=(1,3), max_features=10000,min_df  = 2)\n",
    "  # here i am use the ngram !! , hoping the best precison and the accuracy !! \n",
    "# Using higher n-grams (e.g. (1,3)) to capture more context\n",
    "\n",
    "# Limiting max_features (e.g. 5000) to reduce noise\n",
    "\n",
    "# Setting min_df (minimum document frequency) to remove rare words\n",
    "\n",
    "x = tfidf_vect.fit_transform(DataFrame['modified_data'].to_list())\n",
    "# we use to_list() because  Because fit_transform expects a list-like input, not a pandas Series \n",
    "\n",
    "# fit_transform() :== \n",
    "#fit() - >  to learn from the data \n",
    "# transform() ==>  applied( what is learned from the data in the fit function ) to the data \n"
   ]
  },
  {
   "cell_type": "markdown",
   "id": "c8ee8998-bcf1-43ec-a0a7-dbf968378a48",
   "metadata": {},
   "source": [
    "# Method 02 \n",
    "i am using the sentence BERT for the vectorization for hoping the best result "
   ]
  },
  {
   "cell_type": "code",
   "execution_count": 61,
   "id": "b905419c-86b2-4956-9b7f-56b59bf59054",
   "metadata": {},
   "outputs": [],
   "source": [
    "# !pip install sentence-transformers\n"
   ]
  },
  {
   "cell_type": "code",
   "execution_count": 62,
   "id": "b4e31686-3054-4617-85e6-6165bc62c283",
   "metadata": {},
   "outputs": [],
   "source": [
    "# from sentence_transformers import SentenceTransformer \n",
    "\n",
    "\n",
    "\n",
    "# Bert_transformer = SentenceTransformer('all-MiniLM-L6-v2')\n",
    "\n",
    "\n",
    "\n",
    "# x = Bert_transformer.encode(DataFrame['modified_data'].to_list(),convert_to_tensor = False , show_progress_bar = True)"
   ]
  },
  {
   "cell_type": "code",
   "execution_count": 63,
   "id": "59bed508-969f-4c63-8562-088811199158",
   "metadata": {},
   "outputs": [
    {
     "data": {
      "text/html": [
       "<div>\n",
       "<style scoped>\n",
       "    .dataframe tbody tr th:only-of-type {\n",
       "        vertical-align: middle;\n",
       "    }\n",
       "\n",
       "    .dataframe tbody tr th {\n",
       "        vertical-align: top;\n",
       "    }\n",
       "\n",
       "    .dataframe thead th {\n",
       "        text-align: right;\n",
       "    }\n",
       "</style>\n",
       "<table border=\"1\" class=\"dataframe\">\n",
       "  <thead>\n",
       "    <tr style=\"text-align: right;\">\n",
       "      <th></th>\n",
       "      <th>Genres</th>\n",
       "      <th>Text_input</th>\n",
       "      <th>Total_Character</th>\n",
       "      <th>total_words</th>\n",
       "      <th>total_sentence</th>\n",
       "      <th>modified_data</th>\n",
       "    </tr>\n",
       "  </thead>\n",
       "  <tbody>\n",
       "    <tr>\n",
       "      <th>50448</th>\n",
       "      <td>8</td>\n",
       "      <td>A renowned doctor and his brother live and wo...</td>\n",
       "      <td>560</td>\n",
       "      <td>114</td>\n",
       "      <td>5</td>\n",
       "      <td>renown doctor hi brother live work togeth brot...</td>\n",
       "    </tr>\n",
       "    <tr>\n",
       "      <th>48707</th>\n",
       "      <td>5</td>\n",
       "      <td>Match Made in Radio is a new dramady webserie...</td>\n",
       "      <td>737</td>\n",
       "      <td>146</td>\n",
       "      <td>7</td>\n",
       "      <td>match made radio new dramadi webseri coupl mee...</td>\n",
       "    </tr>\n",
       "    <tr>\n",
       "      <th>21984</th>\n",
       "      <td>8</td>\n",
       "      <td>In the urban environment of the '90s, several...</td>\n",
       "      <td>463</td>\n",
       "      <td>85</td>\n",
       "      <td>4</td>\n",
       "      <td>urban environ sever live interwir confront the...</td>\n",
       "    </tr>\n",
       "    <tr>\n",
       "      <th>27544</th>\n",
       "      <td>8</td>\n",
       "      <td>\"Plutten\" is a former European champion in bo...</td>\n",
       "      <td>287</td>\n",
       "      <td>59</td>\n",
       "      <td>2</td>\n",
       "      <td>plutten former european champion box tour nort...</td>\n",
       "    </tr>\n",
       "    <tr>\n",
       "      <th>10295</th>\n",
       "      <td>8</td>\n",
       "      <td>In Korea Town Los Angeles, a young man, Kengo...</td>\n",
       "      <td>347</td>\n",
       "      <td>75</td>\n",
       "      <td>2</td>\n",
       "      <td>korea town lo angel young man kengo believ son...</td>\n",
       "    </tr>\n",
       "    <tr>\n",
       "      <th>52751</th>\n",
       "      <td>7</td>\n",
       "      <td>Forced into Silence explores what it means to...</td>\n",
       "      <td>530</td>\n",
       "      <td>95</td>\n",
       "      <td>2</td>\n",
       "      <td>forc silenc explor mean male ha abus sexual as...</td>\n",
       "    </tr>\n",
       "    <tr>\n",
       "      <th>51978</th>\n",
       "      <td>21</td>\n",
       "      <td>An easy-to-follow, helpful guide to keep your...</td>\n",
       "      <td>387</td>\n",
       "      <td>77</td>\n",
       "      <td>7</td>\n",
       "      <td>help guid keep lionel train accessori top work...</td>\n",
       "    </tr>\n",
       "    <tr>\n",
       "      <th>28480</th>\n",
       "      <td>7</td>\n",
       "      <td>In 1948, a secret club was established in Nor...</td>\n",
       "      <td>421</td>\n",
       "      <td>79</td>\n",
       "      <td>3</td>\n",
       "      <td>1948 secret club wa establish norway homosexu ...</td>\n",
       "    </tr>\n",
       "    <tr>\n",
       "      <th>1927</th>\n",
       "      <td>6</td>\n",
       "      <td>Sita lives a middle-class lifestyle in India....</td>\n",
       "      <td>1303</td>\n",
       "      <td>262</td>\n",
       "      <td>12</td>\n",
       "      <td>sita live lifestyl india sister pass away unde...</td>\n",
       "    </tr>\n",
       "    <tr>\n",
       "      <th>32129</th>\n",
       "      <td>8</td>\n",
       "      <td>Fourth of July weekend, 1959 Farren \"Rennie\" ...</td>\n",
       "      <td>791</td>\n",
       "      <td>161</td>\n",
       "      <td>8</td>\n",
       "      <td>fourth juli weekend 1959 farren renni ledg go ...</td>\n",
       "    </tr>\n",
       "  </tbody>\n",
       "</table>\n",
       "</div>"
      ],
      "text/plain": [
       "       Genres                                         Text_input  \\\n",
       "50448       8   A renowned doctor and his brother live and wo...   \n",
       "48707       5   Match Made in Radio is a new dramady webserie...   \n",
       "21984       8   In the urban environment of the '90s, several...   \n",
       "27544       8   \"Plutten\" is a former European champion in bo...   \n",
       "10295       8   In Korea Town Los Angeles, a young man, Kengo...   \n",
       "52751       7   Forced into Silence explores what it means to...   \n",
       "51978      21   An easy-to-follow, helpful guide to keep your...   \n",
       "28480       7   In 1948, a secret club was established in Nor...   \n",
       "1927        6   Sita lives a middle-class lifestyle in India....   \n",
       "32129       8   Fourth of July weekend, 1959 Farren \"Rennie\" ...   \n",
       "\n",
       "       Total_Character  total_words  total_sentence  \\\n",
       "50448              560          114               5   \n",
       "48707              737          146               7   \n",
       "21984              463           85               4   \n",
       "27544              287           59               2   \n",
       "10295              347           75               2   \n",
       "52751              530           95               2   \n",
       "51978              387           77               7   \n",
       "28480              421           79               3   \n",
       "1927              1303          262              12   \n",
       "32129              791          161               8   \n",
       "\n",
       "                                           modified_data  \n",
       "50448  renown doctor hi brother live work togeth brot...  \n",
       "48707  match made radio new dramadi webseri coupl mee...  \n",
       "21984  urban environ sever live interwir confront the...  \n",
       "27544  plutten former european champion box tour nort...  \n",
       "10295  korea town lo angel young man kengo believ son...  \n",
       "52751  forc silenc explor mean male ha abus sexual as...  \n",
       "51978  help guid keep lionel train accessori top work...  \n",
       "28480  1948 secret club wa establish norway homosexu ...  \n",
       "1927   sita live lifestyl india sister pass away unde...  \n",
       "32129  fourth juli weekend 1959 farren renni ledg go ...  "
      ]
     },
     "execution_count": 63,
     "metadata": {},
     "output_type": "execute_result"
    }
   ],
   "source": [
    "\n",
    "\n",
    "y = DataFrame['Genres'].values\n",
    "DataFrame.sample(10)\n"
   ]
  },
  {
   "cell_type": "markdown",
   "id": "fb782534-0147-4871-a5c5-8b3353e79338",
   "metadata": {},
   "source": [
    "🔥 Why use .values here?\n",
    "✔️ DataFrame['Genres'] is a pandas Series object.\n",
    "✔️ .values converts it into a NumPy array."
   ]
  },
  {
   "cell_type": "code",
   "execution_count": null,
   "id": "00b9d4dd-1341-4c9d-9f8a-4ac69c35c586",
   "metadata": {},
   "outputs": [],
   "source": []
  },
  {
   "cell_type": "code",
   "execution_count": 64,
   "id": "9d2fef37-4426-4d7b-a267-5165fc1cf756",
   "metadata": {},
   "outputs": [],
   "source": [
    "from sklearn.model_selection import train_test_split \n",
    "x_trained_data , x_test_data , y_trained_data , y_test_data = train_test_split(x,y,random_state = 1 , test_size = 0.2)"
   ]
  },
  {
   "cell_type": "markdown",
   "id": "646fe7e1-37d2-4128-ab15-6c87867906ca",
   "metadata": {},
   "source": [
    " What is sklearn.model_selection?\n",
    "                ✔️ It is a module (sub-library) in scikit-learn.\n",
    "\n",
    "                ✔️ Contains functions to split, select, and validate your data and models.\n",
    "\n",
    "What is train_test_split?\n",
    "                ✅ It is a function from scikit-learn (sklearn)\n",
    "                ✅ It splits your data into:\n",
    "\n",
    "                Training set ➔ to train your model\n",
    "\n",
    "                Testing set ➔ to check if your model works well on new data"
   ]
  },
  {
   "cell_type": "markdown",
   "id": "5e93119f-bc84-4a4f-bfa6-3d2f3e783c56",
   "metadata": {},
   "source": [
    "# Model Selection "
   ]
  },
  {
   "cell_type": "code",
   "execution_count": 65,
   "id": "f64beeef-a560-4c91-9cfb-45609a3d61c0",
   "metadata": {},
   "outputs": [],
   "source": [
    "from sklearn.naive_bayes import MultinomialNB , GaussianNB , BernoulliNB\n",
    "mnb = MultinomialNB()\n",
    "gnb = GaussianNB()\n",
    "bnb = BernoulliNB()"
   ]
  },
  {
   "cell_type": "code",
   "execution_count": 66,
   "id": "c82292a0-5906-4f69-b5ab-c325f46a4d8f",
   "metadata": {},
   "outputs": [],
   "source": [
    "from sklearn.metrics import accuracy_score , confusion_matrix , precision_score\n"
   ]
  },
  {
   "cell_type": "markdown",
   "id": "6729a72a-7e1c-489d-864a-086d395b8240",
   "metadata": {},
   "source": [
    "# 1st model\n",
    "multinomial nb"
   ]
  },
  {
   "cell_type": "markdown",
   "id": "8674f613-a5fe-44bd-9d87-3dc477408c86",
   "metadata": {},
   "source": [
    "Now implementing the MultinomialNB "
   ]
  },
  {
   "cell_type": "code",
   "execution_count": 67,
   "id": "ec359992-28a5-409b-b6cc-f5c06dd3890e",
   "metadata": {},
   "outputs": [
    {
     "name": "stdout",
     "output_type": "stream",
     "text": [
      "0.5080861288235837\n",
      "0.506481452509736\n"
     ]
    },
    {
     "name": "stderr",
     "output_type": "stream",
     "text": [
      "/home/N3xthar-Voryx/Ai_Ml_Modules/Ai_Ml_work/lib/python3.13/site-packages/sklearn/metrics/_classification.py:1706: UndefinedMetricWarning: Precision is ill-defined and being set to 0.0 in labels with no predicted samples. Use `zero_division` parameter to control this behavior.\n",
      "  _warn_prf(average, modifier, f\"{metric.capitalize()} is\", result.shape[0])\n"
     ]
    }
   ],
   "source": [
    "#we cant use the mnb becuae the bert transformer return negative value but the mnb built for the positive value count only !! \n",
    "\n",
    "\n",
    "mnb.fit(x_trained_data.toarray(),y_trained_data)\n",
    "y1_predict = mnb.predict(x_test_data.toarray())\n",
    "# print the accuracy precission and confusion matrix !! \n",
    "print(accuracy_score(y_test_data,y1_predict))\n",
    "print(precision_score(y_test_data,y1_predict, average = 'weighted'))\n",
    "# there are multiple data in the Genres so we decided to use this !! \n",
    "\n",
    "# print(confusion_matrix(y_test_data,y1_predict))"
   ]
  },
  {
   "cell_type": "markdown",
   "id": "6873b0a8-d906-4c5e-a086-b97d63bb6152",
   "metadata": {},
   "source": [
    "Now next turn is GaussianNB "
   ]
  },
  {
   "cell_type": "markdown",
   "id": "394257fa-c798-44d0-9bbc-d1f77bca7fdb",
   "metadata": {},
   "source": [
    "# 2nd Model \n",
    "gaussian nb "
   ]
  },
  {
   "cell_type": "code",
   "execution_count": 68,
   "id": "7774577f-25b4-4bef-b776-bcc1bbd1ac70",
   "metadata": {},
   "outputs": [
    {
     "name": "stderr",
     "output_type": "stream",
     "text": [
      "/home/N3xthar-Voryx/Ai_Ml_Modules/Ai_Ml_work/lib/python3.13/site-packages/sklearn/utils/multiclass.py:79: UserWarning: The number of unique classes is greater than 50% of the number of samples.\n",
      "  ys_types = set(type_of_target(x) for x in ys)\n"
     ]
    },
    {
     "name": "stdout",
     "output_type": "stream",
     "text": [
      "0.29082339894649295\n",
      "0.3599082593579499\n"
     ]
    },
    {
     "name": "stderr",
     "output_type": "stream",
     "text": [
      "/home/N3xthar-Voryx/Ai_Ml_Modules/Ai_Ml_work/lib/python3.13/site-packages/sklearn/metrics/_classification.py:1706: UndefinedMetricWarning: Precision is ill-defined and being set to 0.0 in labels with no predicted samples. Use `zero_division` parameter to control this behavior.\n",
      "  _warn_prf(average, modifier, f\"{metric.capitalize()} is\", result.shape[0])\n"
     ]
    }
   ],
   "source": [
    "gnb.fit(x_trained_data.toarray(),y_trained_data)\n",
    "y2_predict = gnb.predict(x_test_data.toarray())\n",
    "# now print the accuracy precision and the confusin matrix ! \n",
    "print(accuracy_score(y_test_data , y2_predict))\n",
    "print(precision_score(y_test_data,y2_predict,average = 'weighted'))\n",
    "\n"
   ]
  },
  {
   "cell_type": "markdown",
   "id": "83e1e8b7-2d1f-4def-a61e-7187c76b1b3a",
   "metadata": {},
   "source": [
    "# 3rd Model \n",
    "bernollin nb "
   ]
  },
  {
   "cell_type": "code",
   "execution_count": 69,
   "id": "b63c93ec-7b15-4e6d-b8ec-c324d2e2313e",
   "metadata": {},
   "outputs": [
    {
     "name": "stdout",
     "output_type": "stream",
     "text": [
      "0.5275852509010258\n",
      "0.539194090513219\n"
     ]
    }
   ],
   "source": [
    "bnb.fit(x_trained_data,y_trained_data)\n",
    "y3_predict = bnb.predict(x_test_data)\n",
    "print(accuracy_score(y_test_data,y3_predict))\n",
    "print(precision_score(y_test_data,y3_predict,average = 'weighted' ))"
   ]
  },
  {
   "cell_type": "markdown",
   "id": "c5dc0094-8547-4da2-a6c0-beef03192993",
   "metadata": {},
   "source": [
    "Now using the fourth model that is logistic regression "
   ]
  },
  {
   "cell_type": "code",
   "execution_count": null,
   "id": "097cd08a-dc94-463a-811b-6a95c7e912b8",
   "metadata": {},
   "outputs": [],
   "source": []
  },
  {
   "cell_type": "markdown",
   "id": "af086676-e2b5-4d6d-87b5-44a5d278366d",
   "metadata": {},
   "source": [
    "# 4th Model \n",
    "LogisticRegression"
   ]
  },
  {
   "cell_type": "code",
   "execution_count": 70,
   "id": "50474f08-b5c0-4c77-9f72-daae2c3e9ea6",
   "metadata": {},
   "outputs": [],
   "source": [
    "from sklearn.linear_model import LogisticRegression\n",
    "from sklearn.metrics import accuracy_score, precision_score\n"
   ]
  },
  {
   "cell_type": "raw",
   "id": "8f32fe43-9325-4862-b4b2-4d25a2883876",
   "metadata": {},
   "source": [
    "print(\"Starting Logistic Regression training...\")\n",
    "lr = LogisticRegression(max_iter=1000, random_state=42)\n",
    "\n",
    "lr.fit(x_trained_data, y_trained_data)\n",
    "\n",
    "\n",
    "y4_predict = lr.predict(x_test_data)\n",
    "\n",
    "\n",
    "print(\"Accuracy:\", accuracy_score(y_test_data, y4_predict))\n",
    "print(\"Precision (weighted):\", precision_score(y_test_data, y4_predict, average='weighted'))\n",
    "\n"
   ]
  },
  {
   "cell_type": "code",
   "execution_count": null,
   "id": "cf65d4fe-e664-442b-9ad3-a17400dde22a",
   "metadata": {},
   "outputs": [],
   "source": []
  },
  {
   "cell_type": "markdown",
   "id": "64780c1c-7ba8-4c3c-abe7-c67a74f2e98d",
   "metadata": {},
   "source": [
    "Now i am using the 4th model that is logisticRegression !! "
   ]
  },
  {
   "cell_type": "code",
   "execution_count": 71,
   "id": "8ecebe5c-f5a4-4522-afd3-82c0fea89083",
   "metadata": {},
   "outputs": [
    {
     "name": "stdout",
     "output_type": "stream",
     "text": [
      "Accuracy: 0.5888550041585805\n",
      "Precision (weighted): 0.5621538439883377\n"
     ]
    },
    {
     "name": "stderr",
     "output_type": "stream",
     "text": [
      "/home/N3xthar-Voryx/Ai_Ml_Modules/Ai_Ml_work/lib/python3.13/site-packages/sklearn/metrics/_classification.py:1706: UndefinedMetricWarning: Precision is ill-defined and being set to 0.0 in labels with no predicted samples. Use `zero_division` parameter to control this behavior.\n",
      "  _warn_prf(average, modifier, f\"{metric.capitalize()} is\", result.shape[0])\n"
     ]
    }
   ],
   "source": [
    "\n",
    "from sklearn.linear_model import LogisticRegression\n",
    "from sklearn.metrics import accuracy_score, precision_score, classification_report\n",
    "\n",
    "lr = LogisticRegression(max_iter=1000, random_state=42)\n",
    "\n",
    "\n",
    "lr.fit(x_trained_data, y_trained_data)\n",
    "\n",
    "\n",
    "y4_predict = lr.predict(x_test_data)\n",
    "\n",
    "\n",
    "print(\"Accuracy:\", accuracy_score(y_test_data, y4_predict))\n",
    "\n",
    "print(\"Precision (weighted):\", precision_score(y_test_data, y4_predict, average='weighted'))\n",
    "\n",
    "\n"
   ]
  },
  {
   "cell_type": "markdown",
   "id": "f650b415-8d5c-4f95-a13e-83c6e406f277",
   "metadata": {},
   "source": [
    "# 5th model\n",
    "Now using the 5th model hoping for the better result  and the model name is Linear Support Vector Classifier (LinearSVC)\n"
   ]
  },
  {
   "cell_type": "code",
   "execution_count": 72,
   "id": "1382b7df-2cb6-4562-8fad-401ed7c6ac41",
   "metadata": {},
   "outputs": [],
   "source": [
    "from sklearn.svm import LinearSVC\n",
    "from sklearn.metrics import accuracy_score, precision_score\n"
   ]
  },
  {
   "cell_type": "code",
   "execution_count": 73,
   "id": "655fec55-c917-42a4-8e40-100d3b96c97d",
   "metadata": {},
   "outputs": [
    {
     "name": "stdout",
     "output_type": "stream",
     "text": [
      "Accuracy is  0.5674152111634784\n",
      "Precision is  0.5361922646474745\n"
     ]
    }
   ],
   "source": [
    "svc = LinearSVC()\n",
    "svc.fit(x_trained_data,y_trained_data)\n",
    "y5_predict = svc.predict(x_test_data)\n",
    "print(\"Accuracy is \",accuracy_score(y_test_data,y5_predict))\n",
    "print(\"Precision is \",precision_score(y_test_data,y5_predict, average = 'weighted'))"
   ]
  },
  {
   "cell_type": "markdown",
   "id": "c5f700da-83ae-4f99-86d2-84469b4d6667",
   "metadata": {},
   "source": [
    "check the length of the data "
   ]
  },
  {
   "cell_type": "code",
   "execution_count": 74,
   "id": "5f0fd64d-da66-4427-b740-ecffdc91d6ec",
   "metadata": {},
   "outputs": [
    {
     "name": "stdout",
     "output_type": "stream",
     "text": [
      "Number of unique classes: 27\n",
      "Total training samples: 43284\n"
     ]
    }
   ],
   "source": [
    "print(\"Number of unique classes:\", len(set(y_trained_data)))\n",
    "print(\"Total training samples:\", len(y_trained_data))\n"
   ]
  },
  {
   "cell_type": "code",
   "execution_count": 75,
   "id": "227a701a-59e1-40b5-95b2-048eb6c4e582",
   "metadata": {},
   "outputs": [
    {
     "name": "stdout",
     "output_type": "stream",
     "text": [
      "Counter({np.int64(8): 10905, np.int64(7): 10465, np.int64(5): 5941, np.int64(21): 4047, np.int64(13): 1771, np.int64(24): 1239, np.int64(0): 1034, np.int64(26): 823, np.int64(18): 714, np.int64(2): 624, np.int64(9): 597, np.int64(14): 590, np.int64(19): 523, np.int64(20): 499, np.int64(1): 465, np.int64(6): 414, np.int64(3): 411, np.int64(22): 342, np.int64(23): 322, np.int64(10): 261, np.int64(16): 258, np.int64(15): 222, np.int64(4): 211, np.int64(12): 195, np.int64(11): 155, np.int64(17): 144, np.int64(25): 112})\n"
     ]
    }
   ],
   "source": [
    "from collections import Counter\n",
    "print(Counter(y_trained_data))\n"
   ]
  },
  {
   "cell_type": "markdown",
   "id": "601ecf52-5e40-4060-b5fc-b6ae109f69a7",
   "metadata": {},
   "source": [
    "# 6th model\n",
    " random forest !!"
   ]
  },
  {
   "cell_type": "code",
   "execution_count": 76,
   "id": "e488541f-7b8a-47af-980a-dc679fff467f",
   "metadata": {},
   "outputs": [
    {
     "name": "stdout",
     "output_type": "stream",
     "text": [
      "0.4910821550688476\n",
      "0.5225847729693444\n"
     ]
    },
    {
     "name": "stderr",
     "output_type": "stream",
     "text": [
      "/home/N3xthar-Voryx/Ai_Ml_Modules/Ai_Ml_work/lib/python3.13/site-packages/sklearn/metrics/_classification.py:1706: UndefinedMetricWarning: Precision is ill-defined and being set to 0.0 in labels with no predicted samples. Use `zero_division` parameter to control this behavior.\n",
      "  _warn_prf(average, modifier, f\"{metric.capitalize()} is\", result.shape[0])\n"
     ]
    }
   ],
   "source": [
    "from sklearn.ensemble import RandomForestClassifier\n",
    "from sklearn.metrics import accuracy_score, confusion_matrix, precision_score\n",
    "\n",
    "# Initialize the Random Forest model\n",
    "rf = RandomForestClassifier(n_estimators=200, random_state=42, class_weight='balanced')\n",
    "\n",
    "# Train the model (fit)\n",
    "rf.fit(x_trained_data, y_trained_data)\n",
    "\n",
    "# Predict using the trained model\n",
    "y_pred_rf = rf.predict(x_test_data)\n",
    "\n",
    "# Evaluate the model\n",
    "print(accuracy_score(y_test_data, y_pred_rf))\n",
    "\n",
    "print(precision_score(y_test_data, y_pred_rf, average = 'weighted' ))\n",
    "\n"
   ]
  },
  {
   "cell_type": "markdown",
   "id": "7c1392ff-7ac8-4adb-9de2-acdc1f7cbbdb",
   "metadata": {},
   "source": [
    "🔷 💡 Final suggestion for your internship\n",
    "✅ Deploy your best performing model (Logistic Regression or LinearSVC).\n",
    "✅ Clearly mention in your submission/report:\n",
    "\n",
    "What you did:\n",
    "➔ Cleaned data (tokenization, stopwords, stemming)\n",
    "➔ Used TF-IDF + BERT embeddings\n",
    "➔ Tried multiple models systematically\n",
    "➔ Handled class imbalance using class_weight='balanced'\n",
    "\n",
    "Why performance is ~60%:\n",
    "➔ High number of classes\n",
    "➔ Possible data imbalance\n",
    "➔ No fine-tuning of BERT embeddings\n",
    "\n",
    "Future work:\n",
    "➔ Fine-tuning BERT\n",
    "➔ Data augmentation\n",
    "➔ Trying deep neural networks\n",
    "\n"
   ]
  },
  {
   "cell_type": "code",
   "execution_count": 77,
   "id": "3587a9cc-0f8c-4f12-9c0c-f31dadc7814d",
   "metadata": {},
   "outputs": [
    {
     "name": "stdout",
     "output_type": "stream",
     "text": [
      "/home/N3xthar-Voryx/Internship02\n"
     ]
    }
   ],
   "source": [
    "import os\n",
    "print(os.getcwd())"
   ]
  },
  {
   "cell_type": "code",
   "execution_count": 80,
   "id": "a8661a65-6e72-4c1f-ad98-a265429c7e70",
   "metadata": {},
   "outputs": [],
   "source": [
    "import pickle \n",
    "pickle.dump(lr,open('model.pkl','wb'))\n",
    "pickle.dump(tfidf_vect,open('vectorization.pkl','wb'))"
   ]
  },
  {
   "cell_type": "code",
   "execution_count": null,
   "id": "85060010-33df-4a6a-8357-02f7a18ed869",
   "metadata": {},
   "outputs": [],
   "source": []
  }
 ],
 "metadata": {
  "kernelspec": {
   "display_name": "Python 3 (ipykernel)",
   "language": "python",
   "name": "python3"
  },
  "language_info": {
   "codemirror_mode": {
    "name": "ipython",
    "version": 3
   },
   "file_extension": ".py",
   "mimetype": "text/x-python",
   "name": "python",
   "nbconvert_exporter": "python",
   "pygments_lexer": "ipython3",
   "version": "3.13.5"
  }
 },
 "nbformat": 4,
 "nbformat_minor": 5
}
